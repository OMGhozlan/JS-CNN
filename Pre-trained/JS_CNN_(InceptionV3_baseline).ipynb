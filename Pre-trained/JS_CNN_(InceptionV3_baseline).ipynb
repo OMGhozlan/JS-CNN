{
  "nbformat": 4,
  "nbformat_minor": 0,
  "metadata": {
    "colab": {
      "name": "JS-CNN (InceptionV3 baseline).ipynb",
      "provenance": [],
      "collapsed_sections": []
    },
    "kernelspec": {
      "name": "python3",
      "display_name": "Python 3"
    },
    "language_info": {
      "name": "python"
    }
  },
  "cells": [
    {
      "cell_type": "code",
      "metadata": {
        "id": "iwo1iqRSipyV"
      },
      "source": [
        "import numpy as np\n",
        "import sklearn\n",
        "import pandas as pd\n",
        "import matplotlib\n",
        "import matplotlib.pyplot as plt\n",
        "import seaborn as sns\n",
        "from sklearn.preprocessing import StandardScaler, Normalizer, MinMaxScaler, LabelEncoder\n",
        "from sklearn.ensemble import RandomForestClassifier, ExtraTreesClassifier, VotingClassifier\n",
        "from sklearn.model_selection import train_test_split, cross_val_score, cross_validate, KFold, StratifiedKFold\n",
        "from sklearn.svm import SVC \n",
        "from sklearn.tree import DecisionTreeClassifier\n",
        "from sklearn.linear_model import LogisticRegression\n",
        "from keras import Model\n",
        "from sklearn.metrics import classification_report, plot_confusion_matrix, roc_curve, roc_auc_score, confusion_matrix\n",
        "from keras import backend as K\n",
        "from keras.models import Sequential, load_model\n",
        "from keras.layers import Dense, Dropout, Activation, ReLU, Input, BatchNormalization, Conv2D, GlobalMaxPooling2D, MaxPooling2D, GlobalAveragePooling2D, Flatten\n",
        "from keras.callbacks import ModelCheckpoint, EarlyStopping, ReduceLROnPlateau, CSVLogger\n",
        "from tensorflow.keras.optimizers import Adam, SGD\n",
        "from tensorflow.keras import regularizers\n",
        "from tensorflow.data import Dataset\n",
        "import tensorflow as tf\n",
        "from tensorflow.keras.utils import plot_model\n",
        "import os\n",
        "import glob\n",
        "import cv2\n",
        "import random\n",
        "from tensorflow.keras.applications.inception_v3 import InceptionV3\n",
        "from tensorflow.keras.preprocessing import image\n",
        "tf.random.set_seed(3957)\n",
        "%matplotlib inline"
      ],
      "execution_count": 1,
      "outputs": []
    },
    {
      "cell_type": "code",
      "metadata": {
        "id": "h1NmGqgj7aI8"
      },
      "source": [
        "sns.set(style=\"darkgrid\")\n",
        "plt.rcParams['figure.dpi'] = 100\n",
        "matplotlib.rcParams['figure.figsize'] = (10, 10)"
      ],
      "execution_count": 31,
      "outputs": []
    },
    {
      "cell_type": "code",
      "metadata": {
        "colab": {
          "base_uri": "https://localhost:8080/"
        },
        "id": "RxV1_BVnNu-n",
        "outputId": "66f57f6b-50e1-4f76-b2e8-dfa3d559769c"
      },
      "source": [
        "from google.colab import drive\n",
        "drive.mount('/content/drive')"
      ],
      "execution_count": 2,
      "outputs": [
        {
          "output_type": "stream",
          "name": "stdout",
          "text": [
            "Drive already mounted at /content/drive; to attempt to forcibly remount, call drive.mount(\"/content/drive\", force_remount=True).\n"
          ]
        }
      ]
    },
    {
      "cell_type": "code",
      "metadata": {
        "id": "YJ-U7Vqnr3LK"
      },
      "source": [
        "directory = '/content/drive/MyDrive/JSWut'\n",
        "batch_size = 64"
      ],
      "execution_count": 3,
      "outputs": []
    },
    {
      "cell_type": "code",
      "metadata": {
        "id": "egN4zYACV32K"
      },
      "source": [
        "def detailed_report(y_true, y_pred):\n",
        "  report = {}\n",
        "  tn, fp, fn, tp = confusion_matrix(y_true, y_pred).ravel()\n",
        "  tpr = tp / (tp + fn)\n",
        "  spc = tn / (fp + tn)\n",
        "  ppv = tp / (tp + fp)\n",
        "  npv = tn / (tn + fn)\n",
        "  fpr = fp / (fp + tn)\n",
        "  fdr = fp / (fp + tp)\n",
        "  fnr = fn / (fn + tp)\n",
        "  acc = (tp + tn) / (fp + tp + fn + tn)\n",
        "  f1 = (2 * tp) / ((2 * tp) + fp + fn)\n",
        "  mcc = ((tp * tn) - (fp * fn)) / np.sqrt((tp + fp) * (tp + fn) * (tn + fp) * (tn + fn))\n",
        "  report[\"Sensitivity\"] = tpr \n",
        "  report[\"Specificity\"] = spc\n",
        "  report[\"Precision\"] = ppv\n",
        "  report[\"Negative Predictive Value\"] = npv\n",
        "  report[\"False Positive Rate\"] = fpr\n",
        "  report[\"False Discovery Rate\"] = fdr\n",
        "  report[\"False Negative Rate\"] = fnr\n",
        "  report[\"Accuracy\"] = acc\n",
        "  report[\"F1-Score\"] = f1\n",
        "  report[\"Matthews Correlation Coefficient\"] = mcc\n",
        "  return report"
      ],
      "execution_count": 4,
      "outputs": []
    },
    {
      "cell_type": "code",
      "metadata": {
        "id": "jKRUCxV67paZ"
      },
      "source": [
        "class JSImageGenerator(tf.keras.utils.Sequence):\n",
        "    def __init__(self, directory, file_type='.js', RGB=False, batch_size=16, shuffle=False, max_dimension=None, X=None, y=None):        \n",
        "        \n",
        "        self.directories = directory\n",
        "        self.batch_size = batch_size\n",
        "        self.shuffle = shuffle\n",
        "        if not max_dimension:\n",
        "          self.max_dimension = 32\n",
        "        else:\n",
        "          self.max_dimension = max_dimension\n",
        "        if not X:\n",
        "          self.image_paths = [f for f in glob.glob(directory + f\"*/*/*{file_type}\", recursive=True) if os.path.isfile(f)]\n",
        "        else:\n",
        "          self.image_paths = X\n",
        "        if not y:\n",
        "          self.class_labels = [1 if 'malicious' in f else 0 for f in self.image_paths]\n",
        "        else:\n",
        "          self.class_labels = y\n",
        "\n",
        "        self.RGB = RGB\n",
        "        self.image_paths = np.array(self.image_paths)\n",
        "        self.class_labels = np.array(self.class_labels)\n",
        "        self.true_labels = np.array([])\n",
        "\n",
        "        #index array for shuffling data\n",
        "        self.idx = np.arange(len(self.image_paths))\n",
        "        \n",
        "    \n",
        "    def __len__(self):\n",
        "        \n",
        "        #number of batches in an epoch\n",
        "        return int(np.ceil(len(self.image_paths)/float(self.batch_size)))\n",
        "    \n",
        "    \n",
        "    def _load_image(self, img_path, save=False):\n",
        "        max_dim = self.max_dimension      \n",
        "        img = np.fromfile(img_path, dtype=np.uint8)\n",
        "\n",
        "        max_dim = int(np.ceil(np.sqrt(len(img))))\n",
        "        while max_dim ** 2 < len(img):\n",
        "          max_dim += 1\n",
        "\n",
        "        max_res = max_dim ** 2\n",
        "        times = int(np.ceil(max_res/len(img)))\n",
        "        img = np.tile(img, times)[:max_res]\n",
        "        img = img.reshape(max_dim, max_dim)\n",
        "        img = cv2.resize(img, (224, 224), interpolation=cv2.INTER_AREA)\n",
        "        img = np.reshape(img, (224, 224, 1))\n",
        "        if save:\n",
        "          with open(f'{img_path}.img', 'wb')  as fp_i:\n",
        "            np.save(fp_i, img)\n",
        "        if self.RGB:\n",
        "          img = np.dstack((img, img, img))          \n",
        "        return img\n",
        "    \n",
        "    def on_epoch_end(self):\n",
        "      if self.shuffle:\n",
        "        np.random.shuffle(self.idx)\n",
        "\n",
        "\n",
        "    def __getitem__(self, index):\n",
        "        batch_image_paths = self.image_paths[self.idx[index *self.batch_size:(index + 1) * self.batch_size]]\n",
        "        batch_class_labels = self.class_labels[self.idx[index *self.batch_size:(index + 1) * self.batch_size]]\n",
        "\n",
        "        batch_images = [self._load_image(image_path) for image_path in batch_image_paths]\n",
        "        self.true_labels = np.append(self.true_labels, batch_class_labels)\n",
        "        return np.asarray(batch_images), np.asarray(batch_class_labels)\n",
        "\n",
        "\n",
        "    def transform(self):\n",
        "        images = [self._load_image(image_path, save=True) for image_path in self.image_paths]\n",
        "        print('[*] Transformation complete')                 "
      ],
      "execution_count": 5,
      "outputs": []
    },
    {
      "cell_type": "code",
      "metadata": {
        "id": "0OspOaVNk8GO"
      },
      "source": [
        "X = [f for f in glob.glob(directory + \"*/*/*.bc\", recursive=True) if os.path.isfile(f)]"
      ],
      "execution_count": 6,
      "outputs": []
    },
    {
      "cell_type": "code",
      "metadata": {
        "id": "RTiuvBknQ8YL"
      },
      "source": [
        "X_temp = [f for f in glob.glob(directory + \"*/*/*.bc\", recursive=True) if (os.path.isfile(f) and 'benign' in f)] * 2\n",
        "random.shuffle(X_temp)\n",
        "random.shuffle(X_temp)\n",
        "X += X_temp"
      ],
      "execution_count": 7,
      "outputs": []
    },
    {
      "cell_type": "code",
      "metadata": {
        "id": "OW9ibmujn_ID"
      },
      "source": [
        "y = [1 if 'malicious' in f else 0 for f in X]"
      ],
      "execution_count": 8,
      "outputs": []
    },
    {
      "cell_type": "code",
      "metadata": {
        "id": "w019IHLglKwW"
      },
      "source": [
        "X_train, X_test, y_train, y_test = train_test_split(X, y, train_size=0.8, random_state=55555)\n",
        "X_train, X_val, y_train, y_val = train_test_split(X_train, y_train, train_size=0.63, random_state=55555)"
      ],
      "execution_count": 9,
      "outputs": []
    },
    {
      "cell_type": "code",
      "metadata": {
        "colab": {
          "base_uri": "https://localhost:8080/"
        },
        "id": "XyhCxo5zM0LG",
        "outputId": "e01038a4-5778-486f-fffd-6de23e5a60b1"
      },
      "source": [
        "print(f\"\"\"Dataset info:\n",
        "----------------------------\n",
        "Training set: {len(X_train)} (Malicious: {y_train.count(1)}, Benign: {y_train.count(0)})\n",
        "Validation set: {len(X_val)} (Malicious: {y_val.count(1)}, Benign: {y_val.count(0)})\n",
        "Testing set: {len(X_test)} (Malicious: {y_test.count(1)}, Benign: {y_test.count(0)})\n",
        "\"\"\")"
      ],
      "execution_count": 10,
      "outputs": [
        {
          "output_type": "stream",
          "name": "stdout",
          "text": [
            "Dataset info:\n",
            "----------------------------\n",
            "Training set: 2471 (Malicious: 1315, Benign: 1156)\n",
            "Validation set: 1452 (Malicious: 780, Benign: 672)\n",
            "Testing set: 981 (Malicious: 526, Benign: 455)\n",
            "\n"
          ]
        }
      ]
    },
    {
      "cell_type": "code",
      "metadata": {
        "id": "MaO5Gzeemz3y"
      },
      "source": [
        "train_gen = JSImageGenerator(directory, RGB=True, batch_size=batch_size, X=X_train, y=y_train)\n",
        "val_gen = JSImageGenerator(directory, RGB=True, batch_size=batch_size, X=X_val, y=y_val)\n",
        "test_gen = JSImageGenerator(directory, RGB=True, batch_size=batch_size, X=X_test, y=y_test)"
      ],
      "execution_count": 11,
      "outputs": []
    },
    {
      "cell_type": "code",
      "metadata": {
        "id": "W4L8UHBMmAL7"
      },
      "source": [
        "def recall_m(y_true, y_pred):\n",
        "    true_positives = K.sum(K.round(K.clip(y_true * y_pred, 0, 1)))\n",
        "    possible_positives = K.sum(K.round(K.clip(y_true, 0, 1)))\n",
        "    recall = true_positives / (possible_positives + K.epsilon())\n",
        "    return recall\n",
        "\n",
        "def precision_m(y_true, y_pred):\n",
        "    true_positives = K.sum(K.round(K.clip(y_true * y_pred, 0, 1)))\n",
        "    predicted_positives = K.sum(K.round(K.clip(y_pred, 0, 1)))\n",
        "    precision = true_positives / (predicted_positives + K.epsilon())\n",
        "    return precision\n",
        "\n",
        "def f1_m(y_true, y_pred):\n",
        "    precision = precision_m(y_true, y_pred)\n",
        "    recall = recall_m(y_true, y_pred)\n",
        "    return 2*((precision*recall)/(precision+recall+K.epsilon()))"
      ],
      "execution_count": 12,
      "outputs": []
    },
    {
      "cell_type": "code",
      "metadata": {
        "id": "ACk8wX9tm9cJ"
      },
      "source": [
        "save_name = 'JS-CNN'"
      ],
      "execution_count": 13,
      "outputs": []
    },
    {
      "cell_type": "code",
      "metadata": {
        "id": "_axS3_Y1jG4J"
      },
      "source": [
        "inceptV3 = InceptionV3(weights='imagenet', include_top=False)"
      ],
      "execution_count": 14,
      "outputs": []
    },
    {
      "cell_type": "code",
      "metadata": {
        "id": "kwsMEM-wjIOk"
      },
      "source": [
        "x = inceptV3.output\n",
        "x = GlobalAveragePooling2D()(x)\n",
        "x = Dense(10, activation='relu')(x)\n",
        "predictions = Dense(1, activation='sigmoid')(x)"
      ],
      "execution_count": 15,
      "outputs": []
    },
    {
      "cell_type": "code",
      "metadata": {
        "id": "5B3_Vzn1jN5B"
      },
      "source": [
        "model = Model(inputs=inceptV3.input, outputs=predictions)"
      ],
      "execution_count": 16,
      "outputs": []
    },
    {
      "cell_type": "code",
      "metadata": {
        "id": "5EQrSjuEjQQS"
      },
      "source": [
        "# Freeze top layers\n",
        "for layer in inceptV3.layers:\n",
        "    layer.trainable = False"
      ],
      "execution_count": 17,
      "outputs": []
    },
    {
      "cell_type": "code",
      "metadata": {
        "id": "I-YN_1UImgSa"
      },
      "source": [
        "sgd = SGD(learning_rate=0.005, momentum=0.9)\n",
        "model.compile(optimizer=sgd, loss='binary_crossentropy', metrics=['acc', f1_m, precision_m, recall_m])"
      ],
      "execution_count": 18,
      "outputs": []
    },
    {
      "cell_type": "code",
      "metadata": {
        "colab": {
          "base_uri": "https://localhost:8080/"
        },
        "id": "8BNgN1uVnf8U",
        "outputId": "078dae78-7432-4c5d-a2e0-94dee320de50"
      },
      "source": [
        "history = model.fit(train_gen, batch_size=batch_size, epochs=15, validation_data=val_gen)"
      ],
      "execution_count": 19,
      "outputs": [
        {
          "output_type": "stream",
          "name": "stdout",
          "text": [
            "Epoch 1/15\n",
            "39/39 [==============================] - 1584s 40s/step - loss: 2.3506 - acc: 0.6572 - f1_m: 0.5110 - precision_m: 0.6881 - recall_m: 0.5198 - val_loss: 0.4340 - val_acc: 0.8767 - val_f1_m: 0.8718 - val_precision_m: 0.9807 - val_recall_m: 0.7879\n",
            "Epoch 2/15\n",
            "39/39 [==============================] - 482s 13s/step - loss: 0.3938 - acc: 0.9170 - f1_m: 0.9184 - precision_m: 0.9524 - recall_m: 0.8922 - val_loss: 0.3562 - val_acc: 0.9229 - val_f1_m: 0.9222 - val_precision_m: 0.9749 - val_recall_m: 0.8782\n",
            "Epoch 3/15\n",
            "39/39 [==============================] - 481s 12s/step - loss: 0.3210 - acc: 0.9409 - f1_m: 0.9440 - precision_m: 0.9470 - recall_m: 0.9449 - val_loss: 0.3241 - val_acc: 0.9242 - val_f1_m: 0.9231 - val_precision_m: 0.9866 - val_recall_m: 0.8702\n",
            "Epoch 4/15\n",
            "39/39 [==============================] - 482s 12s/step - loss: 0.2786 - acc: 0.9466 - f1_m: 0.9476 - precision_m: 0.9630 - recall_m: 0.9365 - val_loss: 0.2418 - val_acc: 0.9601 - val_f1_m: 0.9625 - val_precision_m: 0.9513 - val_recall_m: 0.9751\n",
            "Epoch 5/15\n",
            "39/39 [==============================] - 482s 12s/step - loss: 0.2346 - acc: 0.9583 - f1_m: 0.9609 - precision_m: 0.9575 - recall_m: 0.9659 - val_loss: 0.2109 - val_acc: 0.9601 - val_f1_m: 0.9625 - val_precision_m: 0.9513 - val_recall_m: 0.9751\n",
            "Epoch 6/15\n",
            "39/39 [==============================] - 482s 12s/step - loss: 0.2126 - acc: 0.9587 - f1_m: 0.9611 - precision_m: 0.9614 - recall_m: 0.9623 - val_loss: 0.1909 - val_acc: 0.9690 - val_f1_m: 0.9707 - val_precision_m: 0.9808 - val_recall_m: 0.9621\n",
            "Epoch 7/15\n",
            "39/39 [==============================] - 476s 12s/step - loss: 0.1924 - acc: 0.9640 - f1_m: 0.9657 - precision_m: 0.9718 - recall_m: 0.9609 - val_loss: 0.1715 - val_acc: 0.9725 - val_f1_m: 0.9742 - val_precision_m: 0.9796 - val_recall_m: 0.9699\n",
            "Epoch 8/15\n",
            "39/39 [==============================] - 505s 13s/step - loss: 0.1898 - acc: 0.9636 - f1_m: 0.9639 - precision_m: 0.9743 - recall_m: 0.9563 - val_loss: 0.1832 - val_acc: 0.9601 - val_f1_m: 0.9625 - val_precision_m: 0.9513 - val_recall_m: 0.9751\n",
            "Epoch 9/15\n",
            "39/39 [==============================] - 483s 12s/step - loss: 0.1656 - acc: 0.9701 - f1_m: 0.9715 - precision_m: 0.9752 - recall_m: 0.9689 - val_loss: 0.1581 - val_acc: 0.9704 - val_f1_m: 0.9722 - val_precision_m: 0.9808 - val_recall_m: 0.9649\n",
            "Epoch 10/15\n",
            "39/39 [==============================] - 507s 13s/step - loss: 0.1602 - acc: 0.9713 - f1_m: 0.9731 - precision_m: 0.9782 - recall_m: 0.9690 - val_loss: 0.1442 - val_acc: 0.9745 - val_f1_m: 0.9765 - val_precision_m: 0.9787 - val_recall_m: 0.9751\n",
            "Epoch 11/15\n",
            "39/39 [==============================] - 507s 13s/step - loss: 0.1544 - acc: 0.9688 - f1_m: 0.9698 - precision_m: 0.9756 - recall_m: 0.9655 - val_loss: 0.1588 - val_acc: 0.9607 - val_f1_m: 0.9626 - val_precision_m: 0.9874 - val_recall_m: 0.9402\n",
            "Epoch 12/15\n",
            "39/39 [==============================] - 507s 13s/step - loss: 0.1455 - acc: 0.9725 - f1_m: 0.9740 - precision_m: 0.9785 - recall_m: 0.9703 - val_loss: 0.1544 - val_acc: 0.9663 - val_f1_m: 0.9682 - val_precision_m: 0.9876 - val_recall_m: 0.9511\n",
            "Epoch 13/15\n",
            "39/39 [==============================] - 507s 13s/step - loss: 0.1626 - acc: 0.9660 - f1_m: 0.9674 - precision_m: 0.9789 - recall_m: 0.9587 - val_loss: 0.2072 - val_acc: 0.9277 - val_f1_m: 0.9275 - val_precision_m: 0.9864 - val_recall_m: 0.8772\n",
            "Epoch 14/15\n",
            "39/39 [==============================] - 507s 13s/step - loss: 0.1719 - acc: 0.9551 - f1_m: 0.9558 - precision_m: 0.9698 - recall_m: 0.9462 - val_loss: 0.1349 - val_acc: 0.9704 - val_f1_m: 0.9723 - val_precision_m: 0.9877 - val_recall_m: 0.9587\n",
            "Epoch 15/15\n",
            "39/39 [==============================] - 484s 13s/step - loss: 0.1321 - acc: 0.9733 - f1_m: 0.9746 - precision_m: 0.9804 - recall_m: 0.9694 - val_loss: 0.1275 - val_acc: 0.9738 - val_f1_m: 0.9756 - val_precision_m: 0.9850 - val_recall_m: 0.9673\n"
          ]
        }
      ]
    },
    {
      "cell_type": "code",
      "metadata": {
        "id": "fNh3QKBNnUXM"
      },
      "source": [
        "# Top 2 Inception blocks\n",
        "for layer in model.layers[:249]:\n",
        "   layer.trainable = False\n",
        "for layer in model.layers[249:]:\n",
        "   layer.trainable = True"
      ],
      "execution_count": 20,
      "outputs": []
    },
    {
      "cell_type": "code",
      "metadata": {
        "id": "2KVFu5hynZEi"
      },
      "source": [
        "adam = Adam(learning_rate=0.0001)\n",
        "model.compile(optimizer=adam, loss='binary_crossentropy', metrics=['acc', f1_m, precision_m, recall_m])"
      ],
      "execution_count": 21,
      "outputs": []
    },
    {
      "cell_type": "code",
      "metadata": {
        "colab": {
          "base_uri": "https://localhost:8080/",
          "height": 1000
        },
        "id": "C0n6MaDDnAmq",
        "outputId": "3aa890e5-9aae-4217-911e-ab2ec4534aa6"
      },
      "source": [
        "# Using bytecode of JavaScript file as image\n",
        "checkpointer = ModelCheckpoint(filepath=\"/content/drive/MyDrive/JS-CNN-Custom/InceptionV3_JSBC+Bal_checkpoint_{epoch:02d}.hdf5\", verbose=1, save_best_only=True, monitor='val_f1_m', mode='max')\n",
        "csv_logger = CSVLogger(f'/content/drive/MyDrive/JS-CNN-Custom/InceptionV3_JSBC+Bal_training_set_iranalysis_{save_name}.csv',separator=',', append=False)\n",
        "early_stopper = EarlyStopping(monitor='val_f1_m', patience=10, verbose=1)\n",
        "lr_reducer = ReduceLROnPlateau(monitor='val_loss', factor=1e-6, cooldown=1, patience=8, min_lr=1e-4, verbose=1)\n",
        "\n",
        "history = model.fit(train_gen, batch_size=batch_size, epochs=50, validation_data=val_gen,callbacks=[checkpointer, csv_logger, early_stopper, lr_reducer])\n",
        "model.save(f'/content/drive/MyDrive/JS-CNN-Custom/{save_name}_InceptionV3_JSBC+Bal_2_cnn.hdf5')"
      ],
      "execution_count": 23,
      "outputs": [
        {
          "output_type": "stream",
          "name": "stdout",
          "text": [
            "Epoch 1/50\n",
            "39/39 [==============================] - ETA: 0s - loss: 0.2142 - acc: 0.9328 - f1_m: 0.9236 - precision_m: 0.9776 - recall_m: 0.8947 \n",
            "Epoch 00001: val_f1_m improved from -inf to 0.96305, saving model to /content/drive/MyDrive/JS-CNN-Custom/InceptionV3_JSBC+Bal_checkpoint_01.hdf5\n",
            "39/39 [==============================] - 590s 15s/step - loss: 0.2142 - acc: 0.9328 - f1_m: 0.9236 - precision_m: 0.9776 - recall_m: 0.8947 - val_loss: 0.1558 - val_acc: 0.9621 - val_f1_m: 0.9630 - val_precision_m: 0.9874 - val_recall_m: 0.9415 - lr: 1.0000e-04\n",
            "Epoch 2/50\n",
            "39/39 [==============================] - ETA: 0s - loss: 0.1210 - acc: 0.9749 - f1_m: 0.9763 - precision_m: 0.9829 - recall_m: 0.9706 \n",
            "Epoch 00002: val_f1_m improved from 0.96305 to 0.97844, saving model to /content/drive/MyDrive/JS-CNN-Custom/InceptionV3_JSBC+Bal_checkpoint_02.hdf5\n",
            "39/39 [==============================] - 588s 15s/step - loss: 0.1210 - acc: 0.9749 - f1_m: 0.9763 - precision_m: 0.9829 - recall_m: 0.9706 - val_loss: 0.1298 - val_acc: 0.9766 - val_f1_m: 0.9784 - val_precision_m: 0.9826 - val_recall_m: 0.9751 - lr: 1.0000e-04\n",
            "Epoch 3/50\n",
            "39/39 [==============================] - ETA: 0s - loss: 0.1137 - acc: 0.9781 - f1_m: 0.9791 - precision_m: 0.9835 - recall_m: 0.9753 \n",
            "Epoch 00003: val_f1_m did not improve from 0.97844\n",
            "39/39 [==============================] - 585s 15s/step - loss: 0.1137 - acc: 0.9781 - f1_m: 0.9791 - precision_m: 0.9835 - recall_m: 0.9753 - val_loss: 0.1210 - val_acc: 0.9745 - val_f1_m: 0.9763 - val_precision_m: 0.9783 - val_recall_m: 0.9751 - lr: 1.0000e-04\n",
            "Epoch 4/50\n",
            "39/39 [==============================] - ETA: 0s - loss: 0.1074 - acc: 0.9802 - f1_m: 0.9812 - precision_m: 0.9862 - recall_m: 0.9768 \n",
            "Epoch 00004: val_f1_m improved from 0.97844 to 0.98105, saving model to /content/drive/MyDrive/JS-CNN-Custom/InceptionV3_JSBC+Bal_checkpoint_04.hdf5\n",
            "39/39 [==============================] - 587s 15s/step - loss: 0.1074 - acc: 0.9802 - f1_m: 0.9812 - precision_m: 0.9862 - recall_m: 0.9768 - val_loss: 0.1124 - val_acc: 0.9793 - val_f1_m: 0.9810 - val_precision_m: 0.9877 - val_recall_m: 0.9751 - lr: 1.0000e-04\n",
            "Epoch 5/50\n",
            "39/39 [==============================] - ETA: 0s - loss: 0.1061 - acc: 0.9798 - f1_m: 0.9809 - precision_m: 0.9863 - recall_m: 0.9761 \n",
            "Epoch 00005: val_f1_m did not improve from 0.98105\n",
            "39/39 [==============================] - 586s 15s/step - loss: 0.1061 - acc: 0.9798 - f1_m: 0.9809 - precision_m: 0.9863 - recall_m: 0.9761 - val_loss: 0.1121 - val_acc: 0.9793 - val_f1_m: 0.9810 - val_precision_m: 0.9877 - val_recall_m: 0.9751 - lr: 1.0000e-04\n",
            "Epoch 6/50\n",
            "39/39 [==============================] - ETA: 0s - loss: 0.1063 - acc: 0.9802 - f1_m: 0.9812 - precision_m: 0.9862 - recall_m: 0.9768 \n",
            "Epoch 00006: val_f1_m did not improve from 0.98105\n",
            "39/39 [==============================] - 584s 15s/step - loss: 0.1063 - acc: 0.9802 - f1_m: 0.9812 - precision_m: 0.9862 - recall_m: 0.9768 - val_loss: 0.1089 - val_acc: 0.9793 - val_f1_m: 0.9810 - val_precision_m: 0.9877 - val_recall_m: 0.9751 - lr: 1.0000e-04\n",
            "Epoch 7/50\n",
            "39/39 [==============================] - ETA: 0s - loss: 0.1043 - acc: 0.9802 - f1_m: 0.9812 - precision_m: 0.9870 - recall_m: 0.9759 \n",
            "Epoch 00007: val_f1_m improved from 0.98105 to 0.98164, saving model to /content/drive/MyDrive/JS-CNN-Custom/InceptionV3_JSBC+Bal_checkpoint_07.hdf5\n",
            "39/39 [==============================] - 586s 15s/step - loss: 0.1043 - acc: 0.9802 - f1_m: 0.9812 - precision_m: 0.9870 - recall_m: 0.9759 - val_loss: 0.1095 - val_acc: 0.9800 - val_f1_m: 0.9816 - val_precision_m: 0.9890 - val_recall_m: 0.9751 - lr: 1.0000e-04\n",
            "Epoch 8/50\n",
            "39/39 [==============================] - ETA: 0s - loss: 0.1019 - acc: 0.9802 - f1_m: 0.9812 - precision_m: 0.9862 - recall_m: 0.9768 \n",
            "Epoch 00008: val_f1_m did not improve from 0.98164\n",
            "39/39 [==============================] - 586s 15s/step - loss: 0.1019 - acc: 0.9802 - f1_m: 0.9812 - precision_m: 0.9862 - recall_m: 0.9768 - val_loss: 0.1056 - val_acc: 0.9793 - val_f1_m: 0.9810 - val_precision_m: 0.9890 - val_recall_m: 0.9738 - lr: 1.0000e-04\n",
            "Epoch 9/50\n",
            "39/39 [==============================] - ETA: 0s - loss: 0.1021 - acc: 0.9802 - f1_m: 0.9812 - precision_m: 0.9870 - recall_m: 0.9761 \n",
            "Epoch 00009: val_f1_m did not improve from 0.98164\n",
            "39/39 [==============================] - 584s 15s/step - loss: 0.1021 - acc: 0.9802 - f1_m: 0.9812 - precision_m: 0.9870 - recall_m: 0.9761 - val_loss: 0.1087 - val_acc: 0.9787 - val_f1_m: 0.9803 - val_precision_m: 0.9862 - val_recall_m: 0.9751 - lr: 1.0000e-04\n",
            "Epoch 10/50\n",
            "39/39 [==============================] - ETA: 0s - loss: 0.1028 - acc: 0.9802 - f1_m: 0.9812 - precision_m: 0.9870 - recall_m: 0.9759 \n",
            "Epoch 00010: val_f1_m did not improve from 0.98164\n",
            "39/39 [==============================] - 581s 15s/step - loss: 0.1028 - acc: 0.9802 - f1_m: 0.9812 - precision_m: 0.9870 - recall_m: 0.9759 - val_loss: 0.1074 - val_acc: 0.9793 - val_f1_m: 0.9810 - val_precision_m: 0.9877 - val_recall_m: 0.9751 - lr: 1.0000e-04\n",
            "Epoch 11/50\n",
            "39/39 [==============================] - ETA: 0s - loss: 0.0995 - acc: 0.9802 - f1_m: 0.9811 - precision_m: 0.9860 - recall_m: 0.9768 \n",
            "Epoch 00011: val_f1_m did not improve from 0.98164\n",
            "39/39 [==============================] - 581s 15s/step - loss: 0.0995 - acc: 0.9802 - f1_m: 0.9811 - precision_m: 0.9860 - recall_m: 0.9768 - val_loss: 0.1041 - val_acc: 0.9793 - val_f1_m: 0.9810 - val_precision_m: 0.9890 - val_recall_m: 0.9738 - lr: 1.0000e-04\n",
            "Epoch 12/50\n",
            "39/39 [==============================] - ETA: 0s - loss: 0.0970 - acc: 0.9802 - f1_m: 0.9812 - precision_m: 0.9868 - recall_m: 0.9761 \n",
            "Epoch 00012: val_f1_m did not improve from 0.98164\n",
            "39/39 [==============================] - 584s 15s/step - loss: 0.0970 - acc: 0.9802 - f1_m: 0.9812 - precision_m: 0.9868 - recall_m: 0.9761 - val_loss: 0.1047 - val_acc: 0.9793 - val_f1_m: 0.9810 - val_precision_m: 0.9890 - val_recall_m: 0.9738 - lr: 1.0000e-04\n",
            "Epoch 13/50\n",
            "39/39 [==============================] - ETA: 0s - loss: 0.0955 - acc: 0.9822 - f1_m: 0.9831 - precision_m: 0.9900 - recall_m: 0.9768 \n",
            "Epoch 00013: val_f1_m did not improve from 0.98164\n",
            "39/39 [==============================] - 585s 15s/step - loss: 0.0955 - acc: 0.9822 - f1_m: 0.9831 - precision_m: 0.9900 - recall_m: 0.9768 - val_loss: 0.1041 - val_acc: 0.9800 - val_f1_m: 0.9816 - val_precision_m: 0.9890 - val_recall_m: 0.9751 - lr: 1.0000e-04\n",
            "Epoch 14/50\n",
            "39/39 [==============================] - ETA: 0s - loss: 0.0966 - acc: 0.9814 - f1_m: 0.9822 - precision_m: 0.9906 - recall_m: 0.9743 \n",
            "Epoch 00014: val_f1_m did not improve from 0.98164\n",
            "39/39 [==============================] - 585s 15s/step - loss: 0.0966 - acc: 0.9814 - f1_m: 0.9822 - precision_m: 0.9906 - recall_m: 0.9743 - val_loss: 0.1070 - val_acc: 0.9787 - val_f1_m: 0.9803 - val_precision_m: 0.9890 - val_recall_m: 0.9725 - lr: 1.0000e-04\n",
            "Epoch 15/50\n",
            "39/39 [==============================] - ETA: 0s - loss: 0.0971 - acc: 0.9814 - f1_m: 0.9824 - precision_m: 0.9900 - recall_m: 0.9753 \n",
            "Epoch 00015: val_f1_m did not improve from 0.98164\n",
            "39/39 [==============================] - 583s 15s/step - loss: 0.0971 - acc: 0.9814 - f1_m: 0.9824 - precision_m: 0.9900 - recall_m: 0.9753 - val_loss: 0.1058 - val_acc: 0.9793 - val_f1_m: 0.9810 - val_precision_m: 0.9890 - val_recall_m: 0.9737 - lr: 1.0000e-04\n",
            "Epoch 16/50\n",
            "38/39 [============================>.] - ETA: 10s - loss: 0.0972 - acc: 0.9809 - f1_m: 0.9819 - precision_m: 0.9898 - recall_m: 0.9747"
          ]
        },
        {
          "output_type": "error",
          "ename": "KeyboardInterrupt",
          "evalue": "ignored",
          "traceback": [
            "\u001b[0;31m---------------------------------------------------------------------------\u001b[0m",
            "\u001b[0;31mKeyboardInterrupt\u001b[0m                         Traceback (most recent call last)",
            "\u001b[0;32m<ipython-input-23-6c24e658c9e6>\u001b[0m in \u001b[0;36m<module>\u001b[0;34m()\u001b[0m\n\u001b[1;32m      5\u001b[0m \u001b[0mlr_reducer\u001b[0m \u001b[0;34m=\u001b[0m \u001b[0mReduceLROnPlateau\u001b[0m\u001b[0;34m(\u001b[0m\u001b[0mmonitor\u001b[0m\u001b[0;34m=\u001b[0m\u001b[0;34m'val_loss'\u001b[0m\u001b[0;34m,\u001b[0m \u001b[0mfactor\u001b[0m\u001b[0;34m=\u001b[0m\u001b[0;36m1e-6\u001b[0m\u001b[0;34m,\u001b[0m \u001b[0mcooldown\u001b[0m\u001b[0;34m=\u001b[0m\u001b[0;36m1\u001b[0m\u001b[0;34m,\u001b[0m \u001b[0mpatience\u001b[0m\u001b[0;34m=\u001b[0m\u001b[0;36m8\u001b[0m\u001b[0;34m,\u001b[0m \u001b[0mmin_lr\u001b[0m\u001b[0;34m=\u001b[0m\u001b[0;36m1e-4\u001b[0m\u001b[0;34m,\u001b[0m \u001b[0mverbose\u001b[0m\u001b[0;34m=\u001b[0m\u001b[0;36m1\u001b[0m\u001b[0;34m)\u001b[0m\u001b[0;34m\u001b[0m\u001b[0;34m\u001b[0m\u001b[0m\n\u001b[1;32m      6\u001b[0m \u001b[0;34m\u001b[0m\u001b[0m\n\u001b[0;32m----> 7\u001b[0;31m \u001b[0mhistory\u001b[0m \u001b[0;34m=\u001b[0m \u001b[0mmodel\u001b[0m\u001b[0;34m.\u001b[0m\u001b[0mfit\u001b[0m\u001b[0;34m(\u001b[0m\u001b[0mtrain_gen\u001b[0m\u001b[0;34m,\u001b[0m \u001b[0mbatch_size\u001b[0m\u001b[0;34m=\u001b[0m\u001b[0mbatch_size\u001b[0m\u001b[0;34m,\u001b[0m \u001b[0mepochs\u001b[0m\u001b[0;34m=\u001b[0m\u001b[0;36m50\u001b[0m\u001b[0;34m,\u001b[0m \u001b[0mvalidation_data\u001b[0m\u001b[0;34m=\u001b[0m\u001b[0mval_gen\u001b[0m\u001b[0;34m,\u001b[0m\u001b[0mcallbacks\u001b[0m\u001b[0;34m=\u001b[0m\u001b[0;34m[\u001b[0m\u001b[0mcheckpointer\u001b[0m\u001b[0;34m,\u001b[0m \u001b[0mcsv_logger\u001b[0m\u001b[0;34m,\u001b[0m \u001b[0mearly_stopper\u001b[0m\u001b[0;34m,\u001b[0m \u001b[0mlr_reducer\u001b[0m\u001b[0;34m]\u001b[0m\u001b[0;34m)\u001b[0m\u001b[0;34m\u001b[0m\u001b[0;34m\u001b[0m\u001b[0m\n\u001b[0m\u001b[1;32m      8\u001b[0m \u001b[0mmodel\u001b[0m\u001b[0;34m.\u001b[0m\u001b[0msave\u001b[0m\u001b[0;34m(\u001b[0m\u001b[0;34mf'/content/drive/MyDrive/JS-CNN-Custom/{save_name}_InceptionV3_JSBC+Bal_2_cnn.hdf5'\u001b[0m\u001b[0;34m)\u001b[0m\u001b[0;34m\u001b[0m\u001b[0;34m\u001b[0m\u001b[0m\n",
            "\u001b[0;32m/usr/local/lib/python3.7/dist-packages/keras/utils/traceback_utils.py\u001b[0m in \u001b[0;36merror_handler\u001b[0;34m(*args, **kwargs)\u001b[0m\n\u001b[1;32m     62\u001b[0m     \u001b[0mfiltered_tb\u001b[0m \u001b[0;34m=\u001b[0m \u001b[0;32mNone\u001b[0m\u001b[0;34m\u001b[0m\u001b[0;34m\u001b[0m\u001b[0m\n\u001b[1;32m     63\u001b[0m     \u001b[0;32mtry\u001b[0m\u001b[0;34m:\u001b[0m\u001b[0;34m\u001b[0m\u001b[0;34m\u001b[0m\u001b[0m\n\u001b[0;32m---> 64\u001b[0;31m       \u001b[0;32mreturn\u001b[0m \u001b[0mfn\u001b[0m\u001b[0;34m(\u001b[0m\u001b[0;34m*\u001b[0m\u001b[0margs\u001b[0m\u001b[0;34m,\u001b[0m \u001b[0;34m**\u001b[0m\u001b[0mkwargs\u001b[0m\u001b[0;34m)\u001b[0m\u001b[0;34m\u001b[0m\u001b[0;34m\u001b[0m\u001b[0m\n\u001b[0m\u001b[1;32m     65\u001b[0m     \u001b[0;32mexcept\u001b[0m \u001b[0mException\u001b[0m \u001b[0;32mas\u001b[0m \u001b[0me\u001b[0m\u001b[0;34m:\u001b[0m  \u001b[0;31m# pylint: disable=broad-except\u001b[0m\u001b[0;34m\u001b[0m\u001b[0;34m\u001b[0m\u001b[0m\n\u001b[1;32m     66\u001b[0m       \u001b[0mfiltered_tb\u001b[0m \u001b[0;34m=\u001b[0m \u001b[0m_process_traceback_frames\u001b[0m\u001b[0;34m(\u001b[0m\u001b[0me\u001b[0m\u001b[0;34m.\u001b[0m\u001b[0m__traceback__\u001b[0m\u001b[0;34m)\u001b[0m\u001b[0;34m\u001b[0m\u001b[0;34m\u001b[0m\u001b[0m\n",
            "\u001b[0;32m/usr/local/lib/python3.7/dist-packages/keras/engine/training.py\u001b[0m in \u001b[0;36mfit\u001b[0;34m(self, x, y, batch_size, epochs, verbose, callbacks, validation_split, validation_data, shuffle, class_weight, sample_weight, initial_epoch, steps_per_epoch, validation_steps, validation_batch_size, validation_freq, max_queue_size, workers, use_multiprocessing)\u001b[0m\n\u001b[1;32m   1214\u001b[0m                 _r=1):\n\u001b[1;32m   1215\u001b[0m               \u001b[0mcallbacks\u001b[0m\u001b[0;34m.\u001b[0m\u001b[0mon_train_batch_begin\u001b[0m\u001b[0;34m(\u001b[0m\u001b[0mstep\u001b[0m\u001b[0;34m)\u001b[0m\u001b[0;34m\u001b[0m\u001b[0;34m\u001b[0m\u001b[0m\n\u001b[0;32m-> 1216\u001b[0;31m               \u001b[0mtmp_logs\u001b[0m \u001b[0;34m=\u001b[0m \u001b[0mself\u001b[0m\u001b[0;34m.\u001b[0m\u001b[0mtrain_function\u001b[0m\u001b[0;34m(\u001b[0m\u001b[0miterator\u001b[0m\u001b[0;34m)\u001b[0m\u001b[0;34m\u001b[0m\u001b[0;34m\u001b[0m\u001b[0m\n\u001b[0m\u001b[1;32m   1217\u001b[0m               \u001b[0;32mif\u001b[0m \u001b[0mdata_handler\u001b[0m\u001b[0;34m.\u001b[0m\u001b[0mshould_sync\u001b[0m\u001b[0;34m:\u001b[0m\u001b[0;34m\u001b[0m\u001b[0;34m\u001b[0m\u001b[0m\n\u001b[1;32m   1218\u001b[0m                 \u001b[0mcontext\u001b[0m\u001b[0;34m.\u001b[0m\u001b[0masync_wait\u001b[0m\u001b[0;34m(\u001b[0m\u001b[0;34m)\u001b[0m\u001b[0;34m\u001b[0m\u001b[0;34m\u001b[0m\u001b[0m\n",
            "\u001b[0;32m/usr/local/lib/python3.7/dist-packages/tensorflow/python/util/traceback_utils.py\u001b[0m in \u001b[0;36merror_handler\u001b[0;34m(*args, **kwargs)\u001b[0m\n\u001b[1;32m    148\u001b[0m     \u001b[0mfiltered_tb\u001b[0m \u001b[0;34m=\u001b[0m \u001b[0;32mNone\u001b[0m\u001b[0;34m\u001b[0m\u001b[0;34m\u001b[0m\u001b[0m\n\u001b[1;32m    149\u001b[0m     \u001b[0;32mtry\u001b[0m\u001b[0;34m:\u001b[0m\u001b[0;34m\u001b[0m\u001b[0;34m\u001b[0m\u001b[0m\n\u001b[0;32m--> 150\u001b[0;31m       \u001b[0;32mreturn\u001b[0m \u001b[0mfn\u001b[0m\u001b[0;34m(\u001b[0m\u001b[0;34m*\u001b[0m\u001b[0margs\u001b[0m\u001b[0;34m,\u001b[0m \u001b[0;34m**\u001b[0m\u001b[0mkwargs\u001b[0m\u001b[0;34m)\u001b[0m\u001b[0;34m\u001b[0m\u001b[0;34m\u001b[0m\u001b[0m\n\u001b[0m\u001b[1;32m    151\u001b[0m     \u001b[0;32mexcept\u001b[0m \u001b[0mException\u001b[0m \u001b[0;32mas\u001b[0m \u001b[0me\u001b[0m\u001b[0;34m:\u001b[0m\u001b[0;34m\u001b[0m\u001b[0;34m\u001b[0m\u001b[0m\n\u001b[1;32m    152\u001b[0m       \u001b[0mfiltered_tb\u001b[0m \u001b[0;34m=\u001b[0m \u001b[0m_process_traceback_frames\u001b[0m\u001b[0;34m(\u001b[0m\u001b[0me\u001b[0m\u001b[0;34m.\u001b[0m\u001b[0m__traceback__\u001b[0m\u001b[0;34m)\u001b[0m\u001b[0;34m\u001b[0m\u001b[0;34m\u001b[0m\u001b[0m\n",
            "\u001b[0;32m/usr/local/lib/python3.7/dist-packages/tensorflow/python/eager/def_function.py\u001b[0m in \u001b[0;36m__call__\u001b[0;34m(self, *args, **kwds)\u001b[0m\n\u001b[1;32m    908\u001b[0m \u001b[0;34m\u001b[0m\u001b[0m\n\u001b[1;32m    909\u001b[0m       \u001b[0;32mwith\u001b[0m \u001b[0mOptionalXlaContext\u001b[0m\u001b[0;34m(\u001b[0m\u001b[0mself\u001b[0m\u001b[0;34m.\u001b[0m\u001b[0m_jit_compile\u001b[0m\u001b[0;34m)\u001b[0m\u001b[0;34m:\u001b[0m\u001b[0;34m\u001b[0m\u001b[0;34m\u001b[0m\u001b[0m\n\u001b[0;32m--> 910\u001b[0;31m         \u001b[0mresult\u001b[0m \u001b[0;34m=\u001b[0m \u001b[0mself\u001b[0m\u001b[0;34m.\u001b[0m\u001b[0m_call\u001b[0m\u001b[0;34m(\u001b[0m\u001b[0;34m*\u001b[0m\u001b[0margs\u001b[0m\u001b[0;34m,\u001b[0m \u001b[0;34m**\u001b[0m\u001b[0mkwds\u001b[0m\u001b[0;34m)\u001b[0m\u001b[0;34m\u001b[0m\u001b[0;34m\u001b[0m\u001b[0m\n\u001b[0m\u001b[1;32m    911\u001b[0m \u001b[0;34m\u001b[0m\u001b[0m\n\u001b[1;32m    912\u001b[0m       \u001b[0mnew_tracing_count\u001b[0m \u001b[0;34m=\u001b[0m \u001b[0mself\u001b[0m\u001b[0;34m.\u001b[0m\u001b[0mexperimental_get_tracing_count\u001b[0m\u001b[0;34m(\u001b[0m\u001b[0;34m)\u001b[0m\u001b[0;34m\u001b[0m\u001b[0;34m\u001b[0m\u001b[0m\n",
            "\u001b[0;32m/usr/local/lib/python3.7/dist-packages/tensorflow/python/eager/def_function.py\u001b[0m in \u001b[0;36m_call\u001b[0;34m(self, *args, **kwds)\u001b[0m\n\u001b[1;32m    940\u001b[0m       \u001b[0;31m# In this case we have created variables on the first call, so we run the\u001b[0m\u001b[0;34m\u001b[0m\u001b[0;34m\u001b[0m\u001b[0;34m\u001b[0m\u001b[0m\n\u001b[1;32m    941\u001b[0m       \u001b[0;31m# defunned version which is guaranteed to never create variables.\u001b[0m\u001b[0;34m\u001b[0m\u001b[0;34m\u001b[0m\u001b[0;34m\u001b[0m\u001b[0m\n\u001b[0;32m--> 942\u001b[0;31m       \u001b[0;32mreturn\u001b[0m \u001b[0mself\u001b[0m\u001b[0;34m.\u001b[0m\u001b[0m_stateless_fn\u001b[0m\u001b[0;34m(\u001b[0m\u001b[0;34m*\u001b[0m\u001b[0margs\u001b[0m\u001b[0;34m,\u001b[0m \u001b[0;34m**\u001b[0m\u001b[0mkwds\u001b[0m\u001b[0;34m)\u001b[0m  \u001b[0;31m# pylint: disable=not-callable\u001b[0m\u001b[0;34m\u001b[0m\u001b[0;34m\u001b[0m\u001b[0m\n\u001b[0m\u001b[1;32m    943\u001b[0m     \u001b[0;32melif\u001b[0m \u001b[0mself\u001b[0m\u001b[0;34m.\u001b[0m\u001b[0m_stateful_fn\u001b[0m \u001b[0;32mis\u001b[0m \u001b[0;32mnot\u001b[0m \u001b[0;32mNone\u001b[0m\u001b[0;34m:\u001b[0m\u001b[0;34m\u001b[0m\u001b[0;34m\u001b[0m\u001b[0m\n\u001b[1;32m    944\u001b[0m       \u001b[0;31m# Release the lock early so that multiple threads can perform the call\u001b[0m\u001b[0;34m\u001b[0m\u001b[0;34m\u001b[0m\u001b[0;34m\u001b[0m\u001b[0m\n",
            "\u001b[0;32m/usr/local/lib/python3.7/dist-packages/tensorflow/python/eager/function.py\u001b[0m in \u001b[0;36m__call__\u001b[0;34m(self, *args, **kwargs)\u001b[0m\n\u001b[1;32m   3129\u001b[0m        filtered_flat_args) = self._maybe_define_function(args, kwargs)\n\u001b[1;32m   3130\u001b[0m     return graph_function._call_flat(\n\u001b[0;32m-> 3131\u001b[0;31m         filtered_flat_args, captured_inputs=graph_function.captured_inputs)  # pylint: disable=protected-access\n\u001b[0m\u001b[1;32m   3132\u001b[0m \u001b[0;34m\u001b[0m\u001b[0m\n\u001b[1;32m   3133\u001b[0m   \u001b[0;34m@\u001b[0m\u001b[0mproperty\u001b[0m\u001b[0;34m\u001b[0m\u001b[0;34m\u001b[0m\u001b[0m\n",
            "\u001b[0;32m/usr/local/lib/python3.7/dist-packages/tensorflow/python/eager/function.py\u001b[0m in \u001b[0;36m_call_flat\u001b[0;34m(self, args, captured_inputs, cancellation_manager)\u001b[0m\n\u001b[1;32m   1958\u001b[0m       \u001b[0;31m# No tape is watching; skip to running the function.\u001b[0m\u001b[0;34m\u001b[0m\u001b[0;34m\u001b[0m\u001b[0;34m\u001b[0m\u001b[0m\n\u001b[1;32m   1959\u001b[0m       return self._build_call_outputs(self._inference_function.call(\n\u001b[0;32m-> 1960\u001b[0;31m           ctx, args, cancellation_manager=cancellation_manager))\n\u001b[0m\u001b[1;32m   1961\u001b[0m     forward_backward = self._select_forward_and_backward_functions(\n\u001b[1;32m   1962\u001b[0m         \u001b[0margs\u001b[0m\u001b[0;34m,\u001b[0m\u001b[0;34m\u001b[0m\u001b[0;34m\u001b[0m\u001b[0m\n",
            "\u001b[0;32m/usr/local/lib/python3.7/dist-packages/tensorflow/python/eager/function.py\u001b[0m in \u001b[0;36mcall\u001b[0;34m(self, ctx, args, cancellation_manager)\u001b[0m\n\u001b[1;32m    601\u001b[0m               \u001b[0minputs\u001b[0m\u001b[0;34m=\u001b[0m\u001b[0margs\u001b[0m\u001b[0;34m,\u001b[0m\u001b[0;34m\u001b[0m\u001b[0;34m\u001b[0m\u001b[0m\n\u001b[1;32m    602\u001b[0m               \u001b[0mattrs\u001b[0m\u001b[0;34m=\u001b[0m\u001b[0mattrs\u001b[0m\u001b[0;34m,\u001b[0m\u001b[0;34m\u001b[0m\u001b[0;34m\u001b[0m\u001b[0m\n\u001b[0;32m--> 603\u001b[0;31m               ctx=ctx)\n\u001b[0m\u001b[1;32m    604\u001b[0m         \u001b[0;32melse\u001b[0m\u001b[0;34m:\u001b[0m\u001b[0;34m\u001b[0m\u001b[0;34m\u001b[0m\u001b[0m\n\u001b[1;32m    605\u001b[0m           outputs = execute.execute_with_cancellation(\n",
            "\u001b[0;32m/usr/local/lib/python3.7/dist-packages/tensorflow/python/eager/execute.py\u001b[0m in \u001b[0;36mquick_execute\u001b[0;34m(op_name, num_outputs, inputs, attrs, ctx, name)\u001b[0m\n\u001b[1;32m     57\u001b[0m     \u001b[0mctx\u001b[0m\u001b[0;34m.\u001b[0m\u001b[0mensure_initialized\u001b[0m\u001b[0;34m(\u001b[0m\u001b[0;34m)\u001b[0m\u001b[0;34m\u001b[0m\u001b[0;34m\u001b[0m\u001b[0m\n\u001b[1;32m     58\u001b[0m     tensors = pywrap_tfe.TFE_Py_Execute(ctx._handle, device_name, op_name,\n\u001b[0;32m---> 59\u001b[0;31m                                         inputs, attrs, num_outputs)\n\u001b[0m\u001b[1;32m     60\u001b[0m   \u001b[0;32mexcept\u001b[0m \u001b[0mcore\u001b[0m\u001b[0;34m.\u001b[0m\u001b[0m_NotOkStatusException\u001b[0m \u001b[0;32mas\u001b[0m \u001b[0me\u001b[0m\u001b[0;34m:\u001b[0m\u001b[0;34m\u001b[0m\u001b[0;34m\u001b[0m\u001b[0m\n\u001b[1;32m     61\u001b[0m     \u001b[0;32mif\u001b[0m \u001b[0mname\u001b[0m \u001b[0;32mis\u001b[0m \u001b[0;32mnot\u001b[0m \u001b[0;32mNone\u001b[0m\u001b[0;34m:\u001b[0m\u001b[0;34m\u001b[0m\u001b[0;34m\u001b[0m\u001b[0m\n",
            "\u001b[0;31mKeyboardInterrupt\u001b[0m: "
          ]
        }
      ]
    },
    {
      "cell_type": "code",
      "metadata": {
        "id": "7QzX0XX5RA-v",
        "colab": {
          "base_uri": "https://localhost:8080/"
        },
        "outputId": "9ab63434-1a81-4656-de7c-dbe379c68d25"
      },
      "source": [
        "scores = model.evaluate(test_gen, verbose=1)\n",
        "scores"
      ],
      "execution_count": 25,
      "outputs": [
        {
          "output_type": "stream",
          "name": "stdout",
          "text": [
            "16/16 [==============================] - 289s 19s/step - loss: 0.1062 - acc: 0.9786 - f1_m: 0.9797 - precision_m: 0.9903 - recall_m: 0.9699\n"
          ]
        },
        {
          "output_type": "execute_result",
          "data": {
            "text/plain": [
              "[0.10615911334753036,\n",
              " 0.9785932898521423,\n",
              " 0.9796509742736816,\n",
              " 0.9902589321136475,\n",
              " 0.9699497222900391]"
            ]
          },
          "metadata": {},
          "execution_count": 25
        }
      ]
    },
    {
      "cell_type": "code",
      "metadata": {
        "id": "1ybsg1QqSFUK"
      },
      "source": [
        "# test_gen.true_labels.shape\n",
        "y_true = test_gen.class_labels"
      ],
      "execution_count": 26,
      "outputs": []
    },
    {
      "cell_type": "code",
      "metadata": {
        "id": "_B8kT3zWKPiQ",
        "colab": {
          "base_uri": "https://localhost:8080/"
        },
        "outputId": "55296325-4a5b-4ae9-a0f1-77bf9e86e274"
      },
      "source": [
        "%%time\n",
        "y_pred = model.predict(test_gen).ravel()"
      ],
      "execution_count": 28,
      "outputs": [
        {
          "output_type": "stream",
          "name": "stdout",
          "text": [
            "CPU times: user 3min 50s, sys: 5.5 s, total: 3min 56s\n",
            "Wall time: 2min 2s\n"
          ]
        }
      ]
    },
    {
      "cell_type": "code",
      "metadata": {
        "id": "y8wJj6mnROKy"
      },
      "source": [
        "ns_probs = [0 for _ in range(len(y_test))]\n",
        "ns_auc = roc_auc_score(y_test, ns_probs)\n",
        "ns_fpr, ns_tpr, _ = roc_curve(y_test, ns_probs)"
      ],
      "execution_count": 29,
      "outputs": []
    },
    {
      "cell_type": "code",
      "metadata": {
        "colab": {
          "base_uri": "https://localhost:8080/",
          "height": 843
        },
        "id": "SPR5GT_A5jT1",
        "outputId": "4eff7560-04f1-47f5-badb-0152b456f3cd"
      },
      "source": [
        "nn_fpr, nn_tpr, _ = roc_curve(y_true, y_pred) # nn_thresholds\n",
        "nn_auc = roc_auc_score(y_true, y_pred)\n",
        "plt.plot(nn_fpr, nn_tpr, marker='.', label='CNN (auc = %0.3f)' % nn_auc)\n",
        "plt.plot(ns_fpr, ns_tpr, linestyle='--')\n",
        "plt.xlabel('False Positive Rate')\n",
        "plt.ylabel('True Positive Rate')\n",
        "plt.legend()\n",
        "plt.show()"
      ],
      "execution_count": 32,
      "outputs": [
        {
          "output_type": "display_data",
          "data": {
            "image/png": "[encoded data removed]",
            "text/plain": [
              "<Figure size 1000x1000 with 1 Axes>"
            ]
          },
          "metadata": {}
        }
      ]
    },
    {
      "cell_type": "code",
      "metadata": {
        "id": "8kj8sywuG4Ym"
      },
      "source": [
        "scale = lambda x: 1.0 if (x > 0.5) else 0.0\n",
        "scale_v = np.vectorize(scale)"
      ],
      "execution_count": 33,
      "outputs": []
    },
    {
      "cell_type": "code",
      "metadata": {
        "id": "l7GJJAh2GBg2"
      },
      "source": [
        "y_pred_ = scale_v(y_pred)"
      ],
      "execution_count": 34,
      "outputs": []
    },
    {
      "cell_type": "code",
      "metadata": {
        "colab": {
          "base_uri": "https://localhost:8080/"
        },
        "id": "5BuuQSnf5zfr",
        "outputId": "ea4a335c-db23-480f-ec1d-2319fbf134f8"
      },
      "source": [
        "print(classification_report(y_true, y_pred_))"
      ],
      "execution_count": 35,
      "outputs": [
        {
          "output_type": "stream",
          "name": "stdout",
          "text": [
            "              precision    recall  f1-score   support\n",
            "\n",
            "           0       0.97      0.99      0.98       455\n",
            "           1       0.99      0.97      0.98       526\n",
            "\n",
            "    accuracy                           0.98       981\n",
            "   macro avg       0.98      0.98      0.98       981\n",
            "weighted avg       0.98      0.98      0.98       981\n",
            "\n"
          ]
        }
      ]
    },
    {
      "cell_type": "code",
      "metadata": {
        "colab": {
          "base_uri": "https://localhost:8080/"
        },
        "id": "kwWsejQqV5tp",
        "outputId": "84bfacfb-d9a5-4db8-ec48-4b970322341f"
      },
      "source": [
        "import json\n",
        "rep = json.dumps(detailed_report(y_true, y_pred_), sort_keys=True, indent=4)\n",
        "print(rep)"
      ],
      "execution_count": 36,
      "outputs": [
        {
          "output_type": "stream",
          "name": "stdout",
          "text": [
            "{\n",
            "    \"Accuracy\": 0.9785932721712538,\n",
            "    \"F1-Score\": 0.9798270893371758,\n",
            "    \"False Discovery Rate\": 0.009708737864077669,\n",
            "    \"False Negative Rate\": 0.030418250950570342,\n",
            "    \"False Positive Rate\": 0.01098901098901099,\n",
            "    \"Matthews Correlation Coefficient\": 0.9572737106304199,\n",
            "    \"Negative Predictive Value\": 0.9656652360515021,\n",
            "    \"Precision\": 0.9902912621359223,\n",
            "    \"Sensitivity\": 0.9695817490494296,\n",
            "    \"Specificity\": 0.989010989010989\n",
            "}\n"
          ]
        }
      ]
    }
  ]
}