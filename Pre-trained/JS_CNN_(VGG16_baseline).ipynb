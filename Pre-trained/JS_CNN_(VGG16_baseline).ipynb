{
  "nbformat": 4,
  "nbformat_minor": 0,
  "metadata": {
    "colab": {
      "name": "JS-CNN (VGG16 baseline).ipynb",
      "provenance": [],
      "collapsed_sections": []
    },
    "kernelspec": {
      "name": "python3",
      "display_name": "Python 3"
    },
    "language_info": {
      "name": "python"
    },
    "accelerator": "GPU"
  },
  "cells": [
    {
      "cell_type": "code",
      "metadata": {
        "id": "iwo1iqRSipyV"
      },
      "source": [
        "import numpy as np\n",
        "import sklearn\n",
        "import pandas as pd\n",
        "import matplotlib\n",
        "import matplotlib.pyplot as plt\n",
        "import seaborn as sns\n",
        "from sklearn.preprocessing import StandardScaler, Normalizer, MinMaxScaler, LabelEncoder\n",
        "from sklearn.ensemble import RandomForestClassifier, ExtraTreesClassifier, VotingClassifier\n",
        "from sklearn.model_selection import train_test_split, cross_val_score, cross_validate, KFold, StratifiedKFold\n",
        "from sklearn.svm import SVC \n",
        "from sklearn.tree import DecisionTreeClassifier\n",
        "from sklearn.linear_model import LogisticRegression\n",
        "from keras import Model\n",
        "from sklearn.metrics import classification_report, plot_confusion_matrix, roc_curve, roc_auc_score, confusion_matrix\n",
        "from keras import backend as K\n",
        "from keras.models import Sequential, load_model\n",
        "from keras.layers import Dense, Dropout, Activation, ReLU, Input, BatchNormalization, Conv2D, GlobalMaxPooling2D, MaxPooling2D, GlobalAveragePooling2D, Flatten\n",
        "from keras.callbacks import ModelCheckpoint, EarlyStopping, ReduceLROnPlateau, CSVLogger\n",
        "from tensorflow.keras.optimizers import Adam, SGD\n",
        "from tensorflow.keras import regularizers\n",
        "from tensorflow.data import Dataset\n",
        "import tensorflow as tf\n",
        "from tensorflow.keras.utils import plot_model\n",
        "import os\n",
        "import glob\n",
        "import cv2\n",
        "import random\n",
        "from tensorflow.keras.applications import VGG16\n",
        "from tensorflow.keras.applications.vgg16 import preprocess_input\n",
        "from tensorflow.keras.preprocessing import image\n",
        "tf.random.set_seed(3957)\n",
        "%matplotlib inline"
      ],
      "execution_count": null,
      "outputs": []
    },
    {
      "cell_type": "code",
      "metadata": {
        "id": "h1NmGqgj7aI8"
      },
      "source": [
        "sns.set(style=\"darkgrid\")\n",
        "plt.rcParams['figure.dpi'] = 100\n",
        "matplotlib.rcParams['figure.figsize'] = (10, 10)"
      ],
      "execution_count": 2,
      "outputs": []
    },
    {
      "cell_type": "code",
      "metadata": {
        "colab": {
          "base_uri": "https://localhost:8080/"
        },
        "id": "RxV1_BVnNu-n",
        "outputId": "cc0de491-9fd5-4ff3-b197-28bba9082f17"
      },
      "source": [
        "from google.colab import drive\n",
        "drive.mount('/content/drive')"
      ],
      "execution_count": 3,
      "outputs": [
        {
          "output_type": "stream",
          "name": "stdout",
          "text": [
            "Mounted at /content/drive\n"
          ]
        }
      ]
    },
    {
      "cell_type": "code",
      "metadata": {
        "id": "YJ-U7Vqnr3LK"
      },
      "source": [
        "directory = '/content/drive/MyDrive/JSWut'\n",
        "batch_size = 64"
      ],
      "execution_count": 4,
      "outputs": []
    },
    {
      "cell_type": "code",
      "metadata": {
        "id": "egN4zYACV32K"
      },
      "source": [
        "def detailed_report(y_true, y_pred):\n",
        "  report = {}\n",
        "  tn, fp, fn, tp = confusion_matrix(y_true, y_pred).ravel()\n",
        "  tpr = tp / (tp + fn)\n",
        "  spc = tn / (fp + tn)\n",
        "  ppv = tp / (tp + fp)\n",
        "  npv = tn / (tn + fn)\n",
        "  fpr = fp / (fp + tn)\n",
        "  fdr = fp / (fp + tp)\n",
        "  fnr = fn / (fn + tp)\n",
        "  acc = (tp + tn) / (fp + tp + fn + tn)\n",
        "  f1 = (2 * tp) / ((2 * tp) + fp + fn)\n",
        "  mcc = ((tp * tn) - (fp * fn)) / np.sqrt((tp + fp) * (tp + fn) * (tn + fp) * (tn + fn))\n",
        "  report[\"Sensitivity\"] = tpr \n",
        "  report[\"Specificity\"] = spc\n",
        "  report[\"Precision\"] = ppv\n",
        "  report[\"Negative Predictive Value\"] = npv\n",
        "  report[\"False Positive Rate\"] = fpr\n",
        "  report[\"False Discovery Rate\"] = fdr\n",
        "  report[\"False Negative Rate\"] = fnr\n",
        "  report[\"Accuracy\"] = acc\n",
        "  report[\"F1-Score\"] = f1\n",
        "  report[\"Matthews Correlation Coefficient\"] = mcc\n",
        "  return report"
      ],
      "execution_count": 5,
      "outputs": []
    },
    {
      "cell_type": "code",
      "metadata": {
        "id": "jKRUCxV67paZ"
      },
      "source": [
        "class JSImageGenerator(tf.keras.utils.Sequence):\n",
        "    def __init__(self, directory, file_type='.js', RGB=False, batch_size=16, shuffle=False, max_dimension=None, X=None, y=None):        \n",
        "        \n",
        "        self.directories = directory\n",
        "        self.batch_size = batch_size\n",
        "        self.shuffle = shuffle\n",
        "        if not max_dimension:\n",
        "          self.max_dimension = 32\n",
        "        else:\n",
        "          self.max_dimension = max_dimension\n",
        "        if not X:\n",
        "          self.image_paths = [f for f in glob.glob(directory + f\"*/*/*{file_type}\", recursive=True) if os.path.isfile(f)]\n",
        "        else:\n",
        "          self.image_paths = X\n",
        "        if not y:\n",
        "          self.class_labels = [1 if 'malicious' in f else 0 for f in self.image_paths]\n",
        "        else:\n",
        "          self.class_labels = y\n",
        "\n",
        "        self.RGB = RGB\n",
        "        self.image_paths = np.array(self.image_paths)\n",
        "        self.class_labels = np.array(self.class_labels)\n",
        "        self.true_labels = np.array([])\n",
        "\n",
        "        #index array for shuffling data\n",
        "        self.idx = np.arange(len(self.image_paths))\n",
        "        \n",
        "    \n",
        "    def __len__(self):\n",
        "        \n",
        "        #number of batches in an epoch\n",
        "        return int(np.ceil(len(self.image_paths)/float(self.batch_size)))\n",
        "    \n",
        "    \n",
        "    def _load_image(self, img_path, save=False):\n",
        "        max_dim = self.max_dimension      \n",
        "        img = np.fromfile(img_path, dtype=np.uint8)\n",
        "\n",
        "        max_dim = int(np.ceil(np.sqrt(len(img))))\n",
        "        while max_dim ** 2 < len(img):\n",
        "          max_dim += 1\n",
        "\n",
        "        max_res = max_dim ** 2\n",
        "        times = int(np.ceil(max_res/len(img)))\n",
        "        img = np.tile(img, times)[:max_res]\n",
        "        img = img.reshape(max_dim, max_dim)\n",
        "        img = cv2.resize(img, (224, 224), interpolation=cv2.INTER_AREA)\n",
        "        img = np.reshape(img, (224, 224, 1))\n",
        "        if save:\n",
        "          with open(f'{img_path}.img', 'wb')  as fp_i:\n",
        "            np.save(fp_i, img)\n",
        "        if self.RGB:\n",
        "          img = np.dstack((img, img, img))          \n",
        "        return preprocess_input(img)\n",
        "    \n",
        "    def on_epoch_end(self):\n",
        "      if self.shuffle:\n",
        "        np.random.shuffle(self.idx)\n",
        "\n",
        "\n",
        "    def __getitem__(self, index):\n",
        "        batch_image_paths = self.image_paths[self.idx[index *self.batch_size:(index + 1) * self.batch_size]]\n",
        "        batch_class_labels = self.class_labels[self.idx[index *self.batch_size:(index + 1) * self.batch_size]]\n",
        "\n",
        "        batch_images = [self._load_image(image_path) for image_path in batch_image_paths]\n",
        "        self.true_labels = np.append(self.true_labels, batch_class_labels)\n",
        "        return np.asarray(batch_images), np.asarray(batch_class_labels)\n",
        "\n",
        "\n",
        "    def transform(self):\n",
        "        images = [self._load_image(image_path, save=True) for image_path in self.image_paths]\n",
        "        print('[*] Transformation complete')    "
      ],
      "execution_count": 6,
      "outputs": []
    },
    {
      "cell_type": "code",
      "metadata": {
        "id": "0OspOaVNk8GO"
      },
      "source": [
        "X = [f for f in glob.glob(directory + \"*/*/*.bc\", recursive=True) if os.path.isfile(f)]"
      ],
      "execution_count": 7,
      "outputs": []
    },
    {
      "cell_type": "code",
      "metadata": {
        "id": "RTiuvBknQ8YL"
      },
      "source": [
        "X_temp = [f for f in glob.glob(directory + \"*/*/*.bc\", recursive=True) if (os.path.isfile(f) and 'benign' in f)] * 2\n",
        "random.shuffle(X_temp)\n",
        "random.shuffle(X_temp)\n",
        "X += X_temp"
      ],
      "execution_count": 8,
      "outputs": []
    },
    {
      "cell_type": "code",
      "metadata": {
        "id": "OW9ibmujn_ID"
      },
      "source": [
        "y = [1 if 'malicious' in f else 0 for f in X]"
      ],
      "execution_count": 9,
      "outputs": []
    },
    {
      "cell_type": "code",
      "metadata": {
        "id": "w019IHLglKwW"
      },
      "source": [
        "X_train, X_test, y_train, y_test = train_test_split(X, y, train_size=0.8, random_state=55555)\n",
        "X_train, X_val, y_train, y_val = train_test_split(X_train, y_train, train_size=0.63, random_state=55555)"
      ],
      "execution_count": 10,
      "outputs": []
    },
    {
      "cell_type": "code",
      "metadata": {
        "colab": {
          "base_uri": "https://localhost:8080/"
        },
        "id": "XyhCxo5zM0LG",
        "outputId": "5a3324ad-abb1-438e-8da8-e8162108bc05"
      },
      "source": [
        "print(f\"\"\"Dataset info:\n",
        "----------------------------\n",
        "Training set: {len(X_train)} (Malicious: {y_train.count(1)}, Benign: {y_train.count(0)})\n",
        "Validation set: {len(X_val)} (Malicious: {y_val.count(1)}, Benign: {y_val.count(0)})\n",
        "Testing set: {len(X_test)} (Malicious: {y_test.count(1)}, Benign: {y_test.count(0)})\n",
        "\"\"\")"
      ],
      "execution_count": 11,
      "outputs": [
        {
          "output_type": "stream",
          "name": "stdout",
          "text": [
            "Dataset info:\n",
            "----------------------------\n",
            "Training set: 2471 (Malicious: 1315, Benign: 1156)\n",
            "Validation set: 1452 (Malicious: 780, Benign: 672)\n",
            "Testing set: 981 (Malicious: 526, Benign: 455)\n",
            "\n"
          ]
        }
      ]
    },
    {
      "cell_type": "code",
      "metadata": {
        "id": "MaO5Gzeemz3y"
      },
      "source": [
        "train_gen = JSImageGenerator(directory, RGB=True, batch_size=batch_size, X=X_train, y=y_train)\n",
        "val_gen = JSImageGenerator(directory, RGB=True, batch_size=batch_size, X=X_val, y=y_val)\n",
        "test_gen = JSImageGenerator(directory, RGB=True, batch_size=batch_size, X=X_test, y=y_test)"
      ],
      "execution_count": 12,
      "outputs": []
    },
    {
      "cell_type": "code",
      "metadata": {
        "id": "W4L8UHBMmAL7"
      },
      "source": [
        "def recall_m(y_true, y_pred):\n",
        "    true_positives = K.sum(K.round(K.clip(y_true * y_pred, 0, 1)))\n",
        "    possible_positives = K.sum(K.round(K.clip(y_true, 0, 1)))\n",
        "    recall = true_positives / (possible_positives + K.epsilon())\n",
        "    return recall\n",
        "\n",
        "def precision_m(y_true, y_pred):\n",
        "    true_positives = K.sum(K.round(K.clip(y_true * y_pred, 0, 1)))\n",
        "    predicted_positives = K.sum(K.round(K.clip(y_pred, 0, 1)))\n",
        "    precision = true_positives / (predicted_positives + K.epsilon())\n",
        "    return precision\n",
        "\n",
        "def f1_m(y_true, y_pred):\n",
        "    precision = precision_m(y_true, y_pred)\n",
        "    recall = recall_m(y_true, y_pred)\n",
        "    return 2*((precision*recall)/(precision+recall+K.epsilon()))"
      ],
      "execution_count": 13,
      "outputs": []
    },
    {
      "cell_type": "code",
      "metadata": {
        "id": "ACk8wX9tm9cJ"
      },
      "source": [
        "save_name = 'JS-CNN'"
      ],
      "execution_count": 14,
      "outputs": []
    },
    {
      "cell_type": "code",
      "metadata": {
        "id": "_axS3_Y1jG4J",
        "colab": {
          "base_uri": "https://localhost:8080/"
        },
        "outputId": "f875a3b6-2ba6-4354-c222-686075c9dc16"
      },
      "source": [
        "vgg16 = VGG16(include_top=True, weights='imagenet')"
      ],
      "execution_count": 15,
      "outputs": [
        {
          "output_type": "stream",
          "name": "stdout",
          "text": [
            "Downloading data from https://storage.googleapis.com/tensorflow/keras-applications/vgg16/vgg16_weights_tf_dim_ordering_tf_kernels.h5\n",
            "553467904/553467096 [==============================] - 6s 0us/step\n",
            "553476096/553467096 [==============================] - 6s 0us/step\n"
          ]
        }
      ]
    },
    {
      "cell_type": "code",
      "metadata": {
        "id": "P_YU82Ql95Zx"
      },
      "source": [
        "transfer_layer = vgg16.get_layer('block5_pool')"
      ],
      "execution_count": 16,
      "outputs": []
    },
    {
      "cell_type": "code",
      "metadata": {
        "id": "kwsMEM-wjIOk"
      },
      "source": [
        "x = transfer_layer.output\n",
        "x = GlobalAveragePooling2D()(x)\n",
        "x = Dense(10)(x)\n",
        "predictions = Dense(1, activation='sigmoid')(x)"
      ],
      "execution_count": 17,
      "outputs": []
    },
    {
      "cell_type": "code",
      "metadata": {
        "id": "5B3_Vzn1jN5B"
      },
      "source": [
        "model = Model(inputs=vgg16.input, outputs=predictions)"
      ],
      "execution_count": 18,
      "outputs": []
    },
    {
      "cell_type": "code",
      "metadata": {
        "id": "5EQrSjuEjQQS"
      },
      "source": [
        "# Freeze top layers\n",
        "for layer in vgg16.layers:\n",
        "    layer.trainable = False"
      ],
      "execution_count": 19,
      "outputs": []
    },
    {
      "cell_type": "code",
      "metadata": {
        "id": "I-YN_1UImgSa"
      },
      "source": [
        "adam = Adam(learning_rate=1e-3)\n",
        "model.compile(optimizer=adam, loss='binary_crossentropy', metrics=['acc', f1_m, precision_m, recall_m])"
      ],
      "execution_count": 20,
      "outputs": []
    },
    {
      "cell_type": "code",
      "metadata": {
        "colab": {
          "base_uri": "https://localhost:8080/"
        },
        "id": "8BNgN1uVnf8U",
        "outputId": "8f1aaa5c-cfde-4a21-fe22-632ff6dcb47e"
      },
      "source": [
        "history = model.fit(train_gen, batch_size=batch_size, epochs=15, validation_data=val_gen)"
      ],
      "execution_count": 21,
      "outputs": [
        {
          "output_type": "stream",
          "name": "stdout",
          "text": [
            "Epoch 1/15\n",
            "39/39 [==============================] - 1870s 47s/step - loss: 0.3806 - acc: 0.8462 - f1_m: 0.8359 - precision_m: 0.8906 - recall_m: 0.8696 - val_loss: 0.1942 - val_acc: 0.9601 - val_f1_m: 0.9596 - val_precision_m: 0.9798 - val_recall_m: 0.9420\n",
            "Epoch 2/15\n",
            "39/39 [==============================] - 27s 698ms/step - loss: 0.1464 - acc: 0.9717 - f1_m: 0.9734 - precision_m: 0.9759 - recall_m: 0.9724 - val_loss: 0.1302 - val_acc: 0.9683 - val_f1_m: 0.9690 - val_precision_m: 0.9802 - val_recall_m: 0.9593\n",
            "Epoch 3/15\n",
            "39/39 [==============================] - 27s 700ms/step - loss: 0.1041 - acc: 0.9753 - f1_m: 0.9771 - precision_m: 0.9815 - recall_m: 0.9736 - val_loss: 0.1051 - val_acc: 0.9697 - val_f1_m: 0.9698 - val_precision_m: 0.9722 - val_recall_m: 0.9684\n",
            "Epoch 4/15\n",
            "39/39 [==============================] - 27s 700ms/step - loss: 0.0856 - acc: 0.9781 - f1_m: 0.9795 - precision_m: 0.9862 - recall_m: 0.9734 - val_loss: 0.1004 - val_acc: 0.9807 - val_f1_m: 0.9802 - val_precision_m: 0.9704 - val_recall_m: 0.9910\n",
            "Epoch 5/15\n",
            "39/39 [==============================] - 27s 701ms/step - loss: 0.0761 - acc: 0.9798 - f1_m: 0.9812 - precision_m: 0.9864 - recall_m: 0.9767 - val_loss: 0.0962 - val_acc: 0.9793 - val_f1_m: 0.9791 - val_precision_m: 0.9669 - val_recall_m: 0.9922\n",
            "Epoch 6/15\n",
            "39/39 [==============================] - 27s 701ms/step - loss: 0.0684 - acc: 0.9773 - f1_m: 0.9790 - precision_m: 0.9835 - recall_m: 0.9751 - val_loss: 0.0814 - val_acc: 0.9745 - val_f1_m: 0.9750 - val_precision_m: 0.9815 - val_recall_m: 0.9696\n",
            "Epoch 7/15\n",
            "39/39 [==============================] - 27s 702ms/step - loss: 0.0625 - acc: 0.9802 - f1_m: 0.9816 - precision_m: 0.9864 - recall_m: 0.9773 - val_loss: 0.0789 - val_acc: 0.9731 - val_f1_m: 0.9733 - val_precision_m: 0.9779 - val_recall_m: 0.9696\n",
            "Epoch 8/15\n",
            "39/39 [==============================] - 27s 700ms/step - loss: 0.0588 - acc: 0.9806 - f1_m: 0.9819 - precision_m: 0.9878 - recall_m: 0.9764 - val_loss: 0.0763 - val_acc: 0.9745 - val_f1_m: 0.9750 - val_precision_m: 0.9815 - val_recall_m: 0.9696\n",
            "Epoch 9/15\n",
            "39/39 [==============================] - 27s 698ms/step - loss: 0.0561 - acc: 0.9802 - f1_m: 0.9814 - precision_m: 0.9862 - recall_m: 0.9772 - val_loss: 0.0778 - val_acc: 0.9842 - val_f1_m: 0.9840 - val_precision_m: 0.9749 - val_recall_m: 0.9938\n",
            "Epoch 10/15\n",
            "39/39 [==============================] - 27s 701ms/step - loss: 0.0544 - acc: 0.9810 - f1_m: 0.9824 - precision_m: 0.9850 - recall_m: 0.9803 - val_loss: 0.0731 - val_acc: 0.9738 - val_f1_m: 0.9740 - val_precision_m: 0.9779 - val_recall_m: 0.9708\n",
            "Epoch 11/15\n",
            "39/39 [==============================] - 27s 700ms/step - loss: 0.0522 - acc: 0.9818 - f1_m: 0.9830 - precision_m: 0.9872 - recall_m: 0.9794 - val_loss: 0.0718 - val_acc: 0.9738 - val_f1_m: 0.9740 - val_precision_m: 0.9779 - val_recall_m: 0.9708\n",
            "Epoch 12/15\n",
            "39/39 [==============================] - 27s 701ms/step - loss: 0.0510 - acc: 0.9834 - f1_m: 0.9844 - precision_m: 0.9848 - recall_m: 0.9844 - val_loss: 0.0709 - val_acc: 0.9752 - val_f1_m: 0.9753 - val_precision_m: 0.9755 - val_recall_m: 0.9759\n",
            "Epoch 13/15\n",
            "39/39 [==============================] - 27s 700ms/step - loss: 0.0486 - acc: 0.9818 - f1_m: 0.9829 - precision_m: 0.9855 - recall_m: 0.9808 - val_loss: 0.0695 - val_acc: 0.9738 - val_f1_m: 0.9740 - val_precision_m: 0.9779 - val_recall_m: 0.9708\n",
            "Epoch 14/15\n",
            "39/39 [==============================] - 27s 699ms/step - loss: 0.0505 - acc: 0.9810 - f1_m: 0.9822 - precision_m: 0.9843 - recall_m: 0.9808 - val_loss: 0.0689 - val_acc: 0.9848 - val_f1_m: 0.9846 - val_precision_m: 0.9760 - val_recall_m: 0.9938\n",
            "Epoch 15/15\n",
            "39/39 [==============================] - 27s 701ms/step - loss: 0.0476 - acc: 0.9854 - f1_m: 0.9865 - precision_m: 0.9856 - recall_m: 0.9876 - val_loss: 0.0687 - val_acc: 0.9842 - val_f1_m: 0.9840 - val_precision_m: 0.9749 - val_recall_m: 0.9938\n"
          ]
        }
      ]
    },
    {
      "cell_type": "code",
      "metadata": {
        "id": "fNh3QKBNnUXM"
      },
      "source": [
        "# Last 2 convolutional blocks\n",
        "for layer in vgg16.layers:\n",
        "   layer.trainable = ('block5' in layer.name or 'block4' in layer.name)"
      ],
      "execution_count": 22,
      "outputs": []
    },
    {
      "cell_type": "code",
      "metadata": {
        "id": "2KVFu5hynZEi"
      },
      "source": [
        "adam = Adam(learning_rate=1e-5)\n",
        "model.compile(optimizer=adam, loss='binary_crossentropy', metrics=['acc', f1_m, precision_m, recall_m])"
      ],
      "execution_count": 23,
      "outputs": []
    },
    {
      "cell_type": "code",
      "metadata": {
        "id": "C0n6MaDDnAmq",
        "colab": {
          "base_uri": "https://localhost:8080/"
        },
        "outputId": "a1b7b3a6-599e-4e0d-a12a-6cf6b7ecd2c7"
      },
      "source": [
        "# Using bytecode of JavaScript file as image\n",
        "checkpointer = ModelCheckpoint(filepath=\"/content/drive/MyDrive/JS-CNN-Custom/VGG16_JSBC+Bal_checkpoint_{epoch:02d}.hdf5\", verbose=1, save_best_only=True, monitor='val_f1_m', mode='max')\n",
        "csv_logger = CSVLogger(f'/content/drive/MyDrive/JS-CNN-Custom/VGG16_JSBC+Bal_training_set_iranalysis_{save_name}.csv',separator=',', append=False)\n",
        "early_stopper = EarlyStopping(monitor='val_f1_m', patience=10, verbose=1)\n",
        "lr_reducer = ReduceLROnPlateau(monitor='val_loss', factor=1e-6, cooldown=1, patience=8, min_lr=1e-4, verbose=1)\n",
        "\n",
        "history = model.fit(train_gen, batch_size=batch_size, epochs=50, validation_data=val_gen,callbacks=[checkpointer, csv_logger, early_stopper, lr_reducer])\n",
        "model.save(f'/content/drive/MyDrive/JS-CNN-Custom/{save_name}_VGG16_JSBC+Bal_2_cnn.hdf5')"
      ],
      "execution_count": 24,
      "outputs": [
        {
          "output_type": "stream",
          "name": "stdout",
          "text": [
            "Epoch 1/50\n",
            "39/39 [==============================] - ETA: 0s - loss: 0.1889 - acc: 0.9389 - f1_m: 0.9395 - precision_m: 0.9579 - recall_m: 0.9494\n",
            "Epoch 00001: val_f1_m improved from -inf to 0.97728, saving model to /content/drive/MyDrive/JS-CNN-Custom/VGG16_JSBC+Bal_checkpoint_01.hdf5\n",
            "39/39 [==============================] - 45s 1s/step - loss: 0.1889 - acc: 0.9389 - f1_m: 0.9395 - precision_m: 0.9579 - recall_m: 0.9494 - val_loss: 0.0739 - val_acc: 0.9766 - val_f1_m: 0.9773 - val_precision_m: 0.9816 - val_recall_m: 0.9740 - lr: 1.0000e-05\n",
            "Epoch 2/50\n",
            "39/39 [==============================] - ETA: 0s - loss: 0.0441 - acc: 0.9879 - f1_m: 0.9888 - precision_m: 0.9837 - recall_m: 0.9944\n",
            "Epoch 00002: val_f1_m improved from 0.97728 to 0.98273, saving model to /content/drive/MyDrive/JS-CNN-Custom/VGG16_JSBC+Bal_checkpoint_02.hdf5\n",
            "39/39 [==============================] - 37s 943ms/step - loss: 0.0441 - acc: 0.9879 - f1_m: 0.9888 - precision_m: 0.9837 - recall_m: 0.9944 - val_loss: 0.0533 - val_acc: 0.9828 - val_f1_m: 0.9827 - val_precision_m: 0.9724 - val_recall_m: 0.9938 - lr: 1.0000e-05\n",
            "Epoch 3/50\n",
            "39/39 [==============================] - ETA: 0s - loss: 0.0345 - acc: 0.9899 - f1_m: 0.9907 - precision_m: 0.9831 - recall_m: 0.9986\n",
            "Epoch 00003: val_f1_m improved from 0.98273 to 0.98696, saving model to /content/drive/MyDrive/JS-CNN-Custom/VGG16_JSBC+Bal_checkpoint_03.hdf5\n",
            "39/39 [==============================] - 37s 944ms/step - loss: 0.0345 - acc: 0.9899 - f1_m: 0.9907 - precision_m: 0.9831 - recall_m: 0.9986 - val_loss: 0.0495 - val_acc: 0.9869 - val_f1_m: 0.9870 - val_precision_m: 0.9797 - val_recall_m: 0.9949 - lr: 1.0000e-05\n",
            "Epoch 4/50\n",
            "39/39 [==============================] - ETA: 0s - loss: 0.0302 - acc: 0.9907 - f1_m: 0.9914 - precision_m: 0.9859 - recall_m: 0.9972\n",
            "Epoch 00004: val_f1_m did not improve from 0.98696\n",
            "39/39 [==============================] - 36s 927ms/step - loss: 0.0302 - acc: 0.9907 - f1_m: 0.9914 - precision_m: 0.9859 - recall_m: 0.9972 - val_loss: 0.0463 - val_acc: 0.9862 - val_f1_m: 0.9863 - val_precision_m: 0.9771 - val_recall_m: 0.9960 - lr: 1.0000e-05\n",
            "Epoch 5/50\n",
            "39/39 [==============================] - ETA: 0s - loss: 0.0323 - acc: 0.9911 - f1_m: 0.9919 - precision_m: 0.9861 - recall_m: 0.9979\n",
            "Epoch 00005: val_f1_m did not improve from 0.98696\n",
            "39/39 [==============================] - 36s 926ms/step - loss: 0.0323 - acc: 0.9911 - f1_m: 0.9919 - precision_m: 0.9861 - recall_m: 0.9979 - val_loss: 0.0467 - val_acc: 0.9862 - val_f1_m: 0.9863 - val_precision_m: 0.9771 - val_recall_m: 0.9960 - lr: 1.0000e-05\n",
            "Epoch 6/50\n",
            "39/39 [==============================] - ETA: 0s - loss: 0.0271 - acc: 0.9923 - f1_m: 0.9929 - precision_m: 0.9882 - recall_m: 0.9979\n",
            "Epoch 00006: val_f1_m improved from 0.98696 to 0.99197, saving model to /content/drive/MyDrive/JS-CNN-Custom/VGG16_JSBC+Bal_checkpoint_06.hdf5\n",
            "39/39 [==============================] - 37s 944ms/step - loss: 0.0271 - acc: 0.9923 - f1_m: 0.9929 - precision_m: 0.9882 - recall_m: 0.9979 - val_loss: 0.0431 - val_acc: 0.9917 - val_f1_m: 0.9920 - val_precision_m: 0.9894 - val_recall_m: 0.9949 - lr: 1.0000e-05\n",
            "Epoch 7/50\n",
            "39/39 [==============================] - ETA: 0s - loss: 0.0228 - acc: 0.9931 - f1_m: 0.9936 - precision_m: 0.9889 - recall_m: 0.9986\n",
            "Epoch 00007: val_f1_m did not improve from 0.99197\n",
            "39/39 [==============================] - 36s 928ms/step - loss: 0.0228 - acc: 0.9931 - f1_m: 0.9936 - precision_m: 0.9889 - recall_m: 0.9986 - val_loss: 0.0425 - val_acc: 0.9876 - val_f1_m: 0.9876 - val_precision_m: 0.9797 - val_recall_m: 0.9960 - lr: 1.0000e-05\n",
            "Epoch 8/50\n",
            "39/39 [==============================] - ETA: 0s - loss: 0.0200 - acc: 0.9935 - f1_m: 0.9941 - precision_m: 0.9897 - recall_m: 0.9987\n",
            "Epoch 00008: val_f1_m did not improve from 0.99197\n",
            "39/39 [==============================] - 36s 927ms/step - loss: 0.0200 - acc: 0.9935 - f1_m: 0.9941 - precision_m: 0.9897 - recall_m: 0.9987 - val_loss: 0.0406 - val_acc: 0.9904 - val_f1_m: 0.9903 - val_precision_m: 0.9861 - val_recall_m: 0.9949 - lr: 1.0000e-05\n",
            "Epoch 9/50\n",
            "39/39 [==============================] - ETA: 0s - loss: 0.0213 - acc: 0.9939 - f1_m: 0.9945 - precision_m: 0.9898 - recall_m: 0.9993\n",
            "Epoch 00009: val_f1_m did not improve from 0.99197\n",
            "39/39 [==============================] - 36s 933ms/step - loss: 0.0213 - acc: 0.9939 - f1_m: 0.9945 - precision_m: 0.9898 - recall_m: 0.9993 - val_loss: 0.0423 - val_acc: 0.9917 - val_f1_m: 0.9920 - val_precision_m: 0.9894 - val_recall_m: 0.9949 - lr: 1.0000e-05\n",
            "Epoch 10/50\n",
            "39/39 [==============================] - ETA: 0s - loss: 0.0182 - acc: 0.9943 - f1_m: 0.9949 - precision_m: 0.9906 - recall_m: 0.9993\n",
            "Epoch 00010: val_f1_m improved from 0.99197 to 0.99276, saving model to /content/drive/MyDrive/JS-CNN-Custom/VGG16_JSBC+Bal_checkpoint_10.hdf5\n",
            "39/39 [==============================] - 37s 963ms/step - loss: 0.0182 - acc: 0.9943 - f1_m: 0.9949 - precision_m: 0.9906 - recall_m: 0.9993 - val_loss: 0.0407 - val_acc: 0.9924 - val_f1_m: 0.9928 - val_precision_m: 0.9909 - val_recall_m: 0.9949 - lr: 1.0000e-05\n",
            "Epoch 11/50\n",
            "39/39 [==============================] - ETA: 0s - loss: 0.0190 - acc: 0.9943 - f1_m: 0.9950 - precision_m: 0.9921 - recall_m: 0.9980\n",
            "Epoch 00011: val_f1_m did not improve from 0.99276\n",
            "39/39 [==============================] - 36s 928ms/step - loss: 0.0190 - acc: 0.9943 - f1_m: 0.9950 - precision_m: 0.9921 - recall_m: 0.9980 - val_loss: 0.0490 - val_acc: 0.9904 - val_f1_m: 0.9903 - val_precision_m: 0.9861 - val_recall_m: 0.9949 - lr: 1.0000e-05\n",
            "Epoch 00011: early stopping\n"
          ]
        }
      ]
    },
    {
      "cell_type": "code",
      "metadata": {
        "id": "7QzX0XX5RA-v",
        "colab": {
          "base_uri": "https://localhost:8080/"
        },
        "outputId": "e7461c4f-edeb-4300-d941-5bc32b11302e"
      },
      "source": [
        "scores = model.evaluate(test_gen, verbose=1)\n",
        "scores"
      ],
      "execution_count": 25,
      "outputs": [
        {
          "output_type": "stream",
          "name": "stdout",
          "text": [
            "16/16 [==============================] - 344s 23s/step - loss: 0.0448 - acc: 0.9878 - f1_m: 0.9888 - precision_m: 0.9800 - recall_m: 0.9978\n"
          ]
        },
        {
          "output_type": "execute_result",
          "data": {
            "text/plain": [
              "[0.04480075091123581,\n",
              " 0.9877675771713257,\n",
              " 0.9887593984603882,\n",
              " 0.9799859523773193,\n",
              " 0.9978448152542114]"
            ]
          },
          "metadata": {},
          "execution_count": 25
        }
      ]
    },
    {
      "cell_type": "code",
      "metadata": {
        "id": "1ybsg1QqSFUK"
      },
      "source": [
        "# test_gen.true_labels.shape\n",
        "y_true = test_gen.class_labels"
      ],
      "execution_count": 26,
      "outputs": []
    },
    {
      "cell_type": "code",
      "metadata": {
        "id": "_B8kT3zWKPiQ",
        "colab": {
          "base_uri": "https://localhost:8080/"
        },
        "outputId": "9dd31c43-4108-4463-8fe5-62a6906e5211"
      },
      "source": [
        "%%time\n",
        "y_pred = model.predict(test_gen).ravel()"
      ],
      "execution_count": 27,
      "outputs": [
        {
          "output_type": "stream",
          "name": "stdout",
          "text": [
            "CPU times: user 9.46 s, sys: 250 ms, total: 9.71 s\n",
            "Wall time: 7.33 s\n"
          ]
        }
      ]
    },
    {
      "cell_type": "code",
      "metadata": {
        "id": "y8wJj6mnROKy"
      },
      "source": [
        "ns_probs = [0 for _ in range(len(y_test))]\n",
        "ns_auc = roc_auc_score(y_test, ns_probs)\n",
        "ns_fpr, ns_tpr, _ = roc_curve(y_test, ns_probs)"
      ],
      "execution_count": 28,
      "outputs": []
    },
    {
      "cell_type": "code",
      "metadata": {
        "id": "SPR5GT_A5jT1",
        "colab": {
          "base_uri": "https://localhost:8080/",
          "height": 843
        },
        "outputId": "4cd7b2ae-bc58-4e83-aae2-862f65f2eef8"
      },
      "source": [
        "nn_fpr, nn_tpr, _ = roc_curve(y_true, y_pred) # nn_thresholds\n",
        "nn_auc = roc_auc_score(y_true, y_pred)\n",
        "plt.plot(nn_fpr, nn_tpr, marker='.', label='CNN (auc = %0.3f)' % nn_auc)\n",
        "plt.plot(ns_fpr, ns_tpr, linestyle='--')\n",
        "plt.xlabel('False Positive Rate')\n",
        "plt.ylabel('True Positive Rate')\n",
        "plt.legend()\n",
        "plt.show()"
      ],
      "execution_count": 29,
      "outputs": [
        {
          "output_type": "display_data",
          "data": {
            "image/png": "[encoded data removed]",
            "text/plain": [
              "<Figure size 1000x1000 with 1 Axes>"
            ]
          },
          "metadata": {}
        }
      ]
    },
    {
      "cell_type": "code",
      "metadata": {
        "id": "8kj8sywuG4Ym"
      },
      "source": [
        "scale = lambda x: 1.0 if (x > 0.5) else 0.0\n",
        "scale_v = np.vectorize(scale)"
      ],
      "execution_count": 30,
      "outputs": []
    },
    {
      "cell_type": "code",
      "metadata": {
        "id": "l7GJJAh2GBg2"
      },
      "source": [
        "y_pred_ = scale_v(y_pred)"
      ],
      "execution_count": 31,
      "outputs": []
    },
    {
      "cell_type": "code",
      "metadata": {
        "id": "5BuuQSnf5zfr",
        "colab": {
          "base_uri": "https://localhost:8080/"
        },
        "outputId": "e35da869-b3f2-4957-e443-729af6d143f7"
      },
      "source": [
        "print(classification_report(y_true, y_pred_))"
      ],
      "execution_count": 32,
      "outputs": [
        {
          "output_type": "stream",
          "name": "stdout",
          "text": [
            "              precision    recall  f1-score   support\n",
            "\n",
            "           0       1.00      0.98      0.99       455\n",
            "           1       0.98      1.00      0.99       526\n",
            "\n",
            "    accuracy                           0.99       981\n",
            "   macro avg       0.99      0.99      0.99       981\n",
            "weighted avg       0.99      0.99      0.99       981\n",
            "\n"
          ]
        }
      ]
    },
    {
      "cell_type": "code",
      "metadata": {
        "id": "kwWsejQqV5tp",
        "colab": {
          "base_uri": "https://localhost:8080/"
        },
        "outputId": "1351f69f-96d8-45a1-9882-e04e94f1d015"
      },
      "source": [
        "import json\n",
        "rep = json.dumps(detailed_report(y_true, y_pred_), sort_keys=True, indent=4)\n",
        "print(rep)"
      ],
      "execution_count": 33,
      "outputs": [
        {
          "output_type": "stream",
          "name": "stdout",
          "text": [
            "{\n",
            "    \"Accuracy\": 0.9877675840978594,\n",
            "    \"F1-Score\": 0.9887005649717514,\n",
            "    \"False Discovery Rate\": 0.020522388059701493,\n",
            "    \"False Negative Rate\": 0.0019011406844106464,\n",
            "    \"False Positive Rate\": 0.024175824175824177,\n",
            "    \"Matthews Correlation Coefficient\": 0.975575326452111,\n",
            "    \"Negative Predictive Value\": 0.9977528089887641,\n",
            "    \"Precision\": 0.9794776119402985,\n",
            "    \"Sensitivity\": 0.9980988593155894,\n",
            "    \"Specificity\": 0.9758241758241758\n",
            "}\n"
          ]
        }
      ]
    }
  ]
}