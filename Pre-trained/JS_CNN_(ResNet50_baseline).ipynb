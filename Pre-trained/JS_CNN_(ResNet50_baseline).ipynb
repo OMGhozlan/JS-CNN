{
  "nbformat": 4,
  "nbformat_minor": 0,
  "metadata": {
    "colab": {
      "name": "JS-CNN (ResNet50 baseline).ipynb",
      "provenance": [],
      "collapsed_sections": []
    },
    "kernelspec": {
      "name": "python3",
      "display_name": "Python 3"
    },
    "language_info": {
      "name": "python"
    },
    "accelerator": "GPU"
  },
  "cells": [
    {
      "cell_type": "code",
      "metadata": {
        "id": "iwo1iqRSipyV"
      },
      "source": [
        "import numpy as np\n",
        "import sklearn\n",
        "import pandas as pd\n",
        "import matplotlib\n",
        "import matplotlib.pyplot as plt\n",
        "import seaborn as sns\n",
        "from sklearn.preprocessing import StandardScaler, Normalizer, MinMaxScaler, LabelEncoder\n",
        "from sklearn.ensemble import RandomForestClassifier, ExtraTreesClassifier, VotingClassifier\n",
        "from sklearn.model_selection import train_test_split, cross_val_score, cross_validate, KFold, StratifiedKFold\n",
        "from sklearn.svm import SVC \n",
        "from sklearn.tree import DecisionTreeClassifier\n",
        "from sklearn.linear_model import LogisticRegression\n",
        "from keras import Model\n",
        "from sklearn.metrics import classification_report, plot_confusion_matrix, roc_curve, roc_auc_score, confusion_matrix\n",
        "from keras import backend as K\n",
        "from keras.models import Sequential, load_model\n",
        "from keras.layers import Dense, Dropout, Activation, ReLU, Input, BatchNormalization, Conv2D, GlobalMaxPooling2D, MaxPooling2D, GlobalAveragePooling2D, Flatten\n",
        "from keras.callbacks import ModelCheckpoint, EarlyStopping, ReduceLROnPlateau, CSVLogger\n",
        "from tensorflow.keras.optimizers import Adam, SGD\n",
        "from tensorflow.keras import regularizers\n",
        "from tensorflow.data import Dataset\n",
        "import tensorflow as tf\n",
        "from tensorflow.keras.utils import plot_model\n",
        "import os\n",
        "import glob\n",
        "import cv2\n",
        "import random\n",
        "from tensorflow.keras.applications.resnet50 import ResNet50, preprocess_input\n",
        "from tensorflow.keras.preprocessing import image\n",
        "tf.random.set_seed(3957)\n",
        "%matplotlib inline"
      ],
      "execution_count": 1,
      "outputs": []
    },
    {
      "cell_type": "code",
      "metadata": {
        "id": "h1NmGqgj7aI8"
      },
      "source": [
        "sns.set(style=\"darkgrid\")\n",
        "plt.rcParams['figure.dpi'] = 100\n",
        "matplotlib.rcParams['figure.figsize'] = (10, 10)"
      ],
      "execution_count": 2,
      "outputs": []
    },
    {
      "cell_type": "code",
      "metadata": {
        "colab": {
          "base_uri": "https://localhost:8080/"
        },
        "id": "RxV1_BVnNu-n",
        "outputId": "2e4f754f-6764-419e-f23f-e3ee2c91225a"
      },
      "source": [
        "from google.colab import drive\n",
        "drive.mount('/content/drive')"
      ],
      "execution_count": 3,
      "outputs": [
        {
          "output_type": "stream",
          "name": "stdout",
          "text": [
            "Drive already mounted at /content/drive; to attempt to forcibly remount, call drive.mount(\"/content/drive\", force_remount=True).\n"
          ]
        }
      ]
    },
    {
      "cell_type": "code",
      "metadata": {
        "id": "YJ-U7Vqnr3LK"
      },
      "source": [
        "directory = '/content/drive/MyDrive/JSWut'\n",
        "batch_size = 64"
      ],
      "execution_count": 4,
      "outputs": []
    },
    {
      "cell_type": "code",
      "metadata": {
        "id": "egN4zYACV32K"
      },
      "source": [
        "def detailed_report(y_true, y_pred):\n",
        "  report = {}\n",
        "  tn, fp, fn, tp = confusion_matrix(y_true, y_pred).ravel()\n",
        "  tpr = tp / (tp + fn)\n",
        "  spc = tn / (fp + tn)\n",
        "  ppv = tp / (tp + fp)\n",
        "  npv = tn / (tn + fn)\n",
        "  fpr = fp / (fp + tn)\n",
        "  fdr = fp / (fp + tp)\n",
        "  fnr = fn / (fn + tp)\n",
        "  acc = (tp + tn) / (fp + tp + fn + tn)\n",
        "  f1 = (2 * tp) / ((2 * tp) + fp + fn)\n",
        "  mcc = ((tp * tn) - (fp * fn)) / np.sqrt((tp + fp) * (tp + fn) * (tn + fp) * (tn + fn))\n",
        "  report[\"Sensitivity\"] = tpr \n",
        "  report[\"Specificity\"] = spc\n",
        "  report[\"Precision\"] = ppv\n",
        "  report[\"Negative Predictive Value\"] = npv\n",
        "  report[\"False Positive Rate\"] = fpr\n",
        "  report[\"False Discovery Rate\"] = fdr\n",
        "  report[\"False Negative Rate\"] = fnr\n",
        "  report[\"Accuracy\"] = acc\n",
        "  report[\"F1-Score\"] = f1\n",
        "  report[\"Matthews Correlation Coefficient\"] = mcc\n",
        "  return report"
      ],
      "execution_count": 5,
      "outputs": []
    },
    {
      "cell_type": "code",
      "metadata": {
        "id": "jKRUCxV67paZ"
      },
      "source": [
        "class JSImageGenerator(tf.keras.utils.Sequence):\n",
        "    def __init__(self, directory, file_type='.js', RGB=False, batch_size=16, shuffle=False, max_dimension=None, X=None, y=None):        \n",
        "        \n",
        "        self.directories = directory\n",
        "        self.batch_size = batch_size\n",
        "        self.shuffle = shuffle\n",
        "        if not max_dimension:\n",
        "          self.max_dimension = 32\n",
        "        else:\n",
        "          self.max_dimension = max_dimension\n",
        "        if not X:\n",
        "          self.image_paths = [f for f in glob.glob(directory + f\"*/*/*{file_type}\", recursive=True) if os.path.isfile(f)]\n",
        "        else:\n",
        "          self.image_paths = X\n",
        "        if not y:\n",
        "          self.class_labels = [1 if 'malicious' in f else 0 for f in self.image_paths]\n",
        "        else:\n",
        "          self.class_labels = y\n",
        "\n",
        "        self.RGB = RGB\n",
        "        self.image_paths = np.array(self.image_paths)\n",
        "        self.class_labels = np.array(self.class_labels)\n",
        "        self.true_labels = np.array([])\n",
        "\n",
        "        #index array for shuffling data\n",
        "        self.idx = np.arange(len(self.image_paths))\n",
        "        \n",
        "    \n",
        "    def __len__(self):\n",
        "        \n",
        "        #number of batches in an epoch\n",
        "        return int(np.ceil(len(self.image_paths)/float(self.batch_size)))\n",
        "    \n",
        "    \n",
        "    def _load_image(self, img_path, save=False):\n",
        "        max_dim = self.max_dimension      \n",
        "        img = np.fromfile(img_path, dtype=np.uint8)\n",
        "\n",
        "        max_dim = int(np.ceil(np.sqrt(len(img))))\n",
        "        while max_dim ** 2 < len(img):\n",
        "          max_dim += 1\n",
        "\n",
        "        max_res = max_dim ** 2\n",
        "        times = int(np.ceil(max_res/len(img)))\n",
        "        img = np.tile(img, times)[:max_res]\n",
        "        img = img.reshape(max_dim, max_dim)\n",
        "        img = cv2.resize(img, (224, 224), interpolation=cv2.INTER_AREA)\n",
        "        img = np.reshape(img, (224, 224, 1))\n",
        "        if save:\n",
        "          with open(f'{img_path}.img', 'wb')  as fp_i:\n",
        "            np.save(fp_i, img)\n",
        "        if self.RGB:\n",
        "          img = np.dstack((img, img, img))          \n",
        "        return preprocess_input(img)\n",
        "    \n",
        "    def on_epoch_end(self):\n",
        "      if self.shuffle:\n",
        "        np.random.shuffle(self.idx)\n",
        "\n",
        "\n",
        "    def __getitem__(self, index):\n",
        "        batch_image_paths = self.image_paths[self.idx[index *self.batch_size:(index + 1) * self.batch_size]]\n",
        "        batch_class_labels = self.class_labels[self.idx[index *self.batch_size:(index + 1) * self.batch_size]]\n",
        "\n",
        "        batch_images = [self._load_image(image_path) for image_path in batch_image_paths]\n",
        "        self.true_labels = np.append(self.true_labels, batch_class_labels)\n",
        "        return np.asarray(batch_images), np.asarray(batch_class_labels)\n",
        "\n",
        "\n",
        "    def transform(self):\n",
        "        images = [self._load_image(image_path, save=True) for image_path in self.image_paths]\n",
        "        print('[*] Transformation complete')    "
      ],
      "execution_count": 6,
      "outputs": []
    },
    {
      "cell_type": "code",
      "metadata": {
        "id": "0OspOaVNk8GO"
      },
      "source": [
        "X = [f for f in glob.glob(directory + \"*/*/*.bc\", recursive=True) if os.path.isfile(f)]"
      ],
      "execution_count": 7,
      "outputs": []
    },
    {
      "cell_type": "code",
      "metadata": {
        "id": "RTiuvBknQ8YL"
      },
      "source": [
        "X_temp = [f for f in glob.glob(directory + \"*/*/*.bc\", recursive=True) if (os.path.isfile(f) and 'benign' in f)] * 2\n",
        "random.shuffle(X_temp)\n",
        "random.shuffle(X_temp)\n",
        "X += X_temp"
      ],
      "execution_count": 8,
      "outputs": []
    },
    {
      "cell_type": "code",
      "metadata": {
        "id": "OW9ibmujn_ID"
      },
      "source": [
        "y = [1 if 'malicious' in f else 0 for f in X]"
      ],
      "execution_count": 9,
      "outputs": []
    },
    {
      "cell_type": "code",
      "metadata": {
        "id": "w019IHLglKwW"
      },
      "source": [
        "X_train, X_test, y_train, y_test = train_test_split(X, y, train_size=0.8, random_state=55555)\n",
        "X_train, X_val, y_train, y_val = train_test_split(X_train, y_train, train_size=0.63, random_state=55555)"
      ],
      "execution_count": 10,
      "outputs": []
    },
    {
      "cell_type": "code",
      "metadata": {
        "colab": {
          "base_uri": "https://localhost:8080/"
        },
        "id": "XyhCxo5zM0LG",
        "outputId": "ab152b28-4f17-4eec-be4f-f707fd8a88f7"
      },
      "source": [
        "print(f\"\"\"Dataset info:\n",
        "----------------------------\n",
        "Training set: {len(X_train)} (Malicious: {y_train.count(1)}, Benign: {y_train.count(0)})\n",
        "Validation set: {len(X_val)} (Malicious: {y_val.count(1)}, Benign: {y_val.count(0)})\n",
        "Testing set: {len(X_test)} (Malicious: {y_test.count(1)}, Benign: {y_test.count(0)})\n",
        "\"\"\")"
      ],
      "execution_count": 11,
      "outputs": [
        {
          "output_type": "stream",
          "name": "stdout",
          "text": [
            "Dataset info:\n",
            "----------------------------\n",
            "Training set: 2471 (Malicious: 1315, Benign: 1156)\n",
            "Validation set: 1452 (Malicious: 780, Benign: 672)\n",
            "Testing set: 981 (Malicious: 526, Benign: 455)\n",
            "\n"
          ]
        }
      ]
    },
    {
      "cell_type": "code",
      "metadata": {
        "id": "MaO5Gzeemz3y"
      },
      "source": [
        "train_gen = JSImageGenerator(directory, RGB=True, batch_size=batch_size, X=X_train, y=y_train)\n",
        "val_gen = JSImageGenerator(directory, RGB=True, batch_size=batch_size, X=X_val, y=y_val)\n",
        "test_gen = JSImageGenerator(directory, RGB=True, batch_size=batch_size, X=X_test, y=y_test)"
      ],
      "execution_count": 12,
      "outputs": []
    },
    {
      "cell_type": "code",
      "metadata": {
        "id": "W4L8UHBMmAL7"
      },
      "source": [
        "def recall_m(y_true, y_pred):\n",
        "    true_positives = K.sum(K.round(K.clip(y_true * y_pred, 0, 1)))\n",
        "    possible_positives = K.sum(K.round(K.clip(y_true, 0, 1)))\n",
        "    recall = true_positives / (possible_positives + K.epsilon())\n",
        "    return recall\n",
        "\n",
        "def precision_m(y_true, y_pred):\n",
        "    true_positives = K.sum(K.round(K.clip(y_true * y_pred, 0, 1)))\n",
        "    predicted_positives = K.sum(K.round(K.clip(y_pred, 0, 1)))\n",
        "    precision = true_positives / (predicted_positives + K.epsilon())\n",
        "    return precision\n",
        "\n",
        "def f1_m(y_true, y_pred):\n",
        "    precision = precision_m(y_true, y_pred)\n",
        "    recall = recall_m(y_true, y_pred)\n",
        "    return 2*((precision*recall)/(precision+recall+K.epsilon()))"
      ],
      "execution_count": 13,
      "outputs": []
    },
    {
      "cell_type": "code",
      "metadata": {
        "id": "ACk8wX9tm9cJ"
      },
      "source": [
        "save_name = 'JS-CNN'"
      ],
      "execution_count": 14,
      "outputs": []
    },
    {
      "cell_type": "code",
      "metadata": {
        "id": "_axS3_Y1jG4J"
      },
      "source": [
        "res50 = ResNet50(include_top=False, weights='imagenet')"
      ],
      "execution_count": 15,
      "outputs": []
    },
    {
      "cell_type": "code",
      "metadata": {
        "id": "kwsMEM-wjIOk"
      },
      "source": [
        "x = res50.output\n",
        "x = GlobalAveragePooling2D()(x)\n",
        "x = Dense(10)(x)\n",
        "predictions = Dense(1, activation='sigmoid')(x)"
      ],
      "execution_count": 16,
      "outputs": []
    },
    {
      "cell_type": "code",
      "metadata": {
        "id": "5B3_Vzn1jN5B"
      },
      "source": [
        "model = Model(inputs=res50.input, outputs=predictions)"
      ],
      "execution_count": 17,
      "outputs": []
    },
    {
      "cell_type": "code",
      "metadata": {
        "id": "5EQrSjuEjQQS"
      },
      "source": [
        "# Freeze top layers\n",
        "for layer in res50.layers:\n",
        "    layer.trainable = False"
      ],
      "execution_count": 18,
      "outputs": []
    },
    {
      "cell_type": "code",
      "metadata": {
        "id": "I-YN_1UImgSa"
      },
      "source": [
        "adam = Adam(learning_rate=1e-3)\n",
        "model.compile(optimizer=adam, loss='binary_crossentropy', metrics=['acc', f1_m, precision_m, recall_m])"
      ],
      "execution_count": 19,
      "outputs": []
    },
    {
      "cell_type": "code",
      "metadata": {
        "colab": {
          "base_uri": "https://localhost:8080/"
        },
        "id": "8BNgN1uVnf8U",
        "outputId": "1a1c9448-de3e-4c7a-f38a-eb9a74d8fb99"
      },
      "source": [
        "history = model.fit(train_gen, batch_size=batch_size, epochs=15, validation_data=val_gen)"
      ],
      "execution_count": 20,
      "outputs": [
        {
          "output_type": "stream",
          "name": "stdout",
          "text": [
            "Epoch 1/15\n",
            "39/39 [==============================] - 36s 738ms/step - loss: 0.3477 - acc: 0.8551 - f1_m: 0.8534 - precision_m: 0.8547 - recall_m: 0.9007 - val_loss: 0.1325 - val_acc: 0.9725 - val_f1_m: 0.9732 - val_precision_m: 0.9799 - val_recall_m: 0.9677\n",
            "Epoch 2/15\n",
            "39/39 [==============================] - 25s 635ms/step - loss: 0.1121 - acc: 0.9761 - f1_m: 0.9770 - precision_m: 0.9802 - recall_m: 0.9745 - val_loss: 0.1014 - val_acc: 0.9780 - val_f1_m: 0.9784 - val_precision_m: 0.9861 - val_recall_m: 0.9717\n",
            "Epoch 3/15\n",
            "39/39 [==============================] - 25s 635ms/step - loss: 0.1031 - acc: 0.9757 - f1_m: 0.9768 - precision_m: 0.9809 - recall_m: 0.9736 - val_loss: 0.0922 - val_acc: 0.9752 - val_f1_m: 0.9759 - val_precision_m: 0.9800 - val_recall_m: 0.9728\n",
            "Epoch 4/15\n",
            "39/39 [==============================] - 25s 635ms/step - loss: 0.0924 - acc: 0.9777 - f1_m: 0.9789 - precision_m: 0.9825 - recall_m: 0.9759 - val_loss: 0.0874 - val_acc: 0.9759 - val_f1_m: 0.9767 - val_precision_m: 0.9816 - val_recall_m: 0.9728\n",
            "Epoch 5/15\n",
            "39/39 [==============================] - 25s 636ms/step - loss: 0.0961 - acc: 0.9757 - f1_m: 0.9766 - precision_m: 0.9809 - recall_m: 0.9731 - val_loss: 0.0862 - val_acc: 0.9766 - val_f1_m: 0.9777 - val_precision_m: 0.9801 - val_recall_m: 0.9762\n",
            "Epoch 6/15\n",
            "39/39 [==============================] - 25s 636ms/step - loss: 0.0856 - acc: 0.9794 - f1_m: 0.9802 - precision_m: 0.9849 - recall_m: 0.9761 - val_loss: 0.0908 - val_acc: 0.9773 - val_f1_m: 0.9778 - val_precision_m: 0.9861 - val_recall_m: 0.9705\n",
            "Epoch 7/15\n",
            "39/39 [==============================] - 25s 635ms/step - loss: 0.0838 - acc: 0.9790 - f1_m: 0.9799 - precision_m: 0.9826 - recall_m: 0.9779 - val_loss: 0.0861 - val_acc: 0.9787 - val_f1_m: 0.9790 - val_precision_m: 0.9862 - val_recall_m: 0.9728\n",
            "Epoch 8/15\n",
            "39/39 [==============================] - 25s 635ms/step - loss: 0.0798 - acc: 0.9794 - f1_m: 0.9802 - precision_m: 0.9832 - recall_m: 0.9779 - val_loss: 0.0821 - val_acc: 0.9793 - val_f1_m: 0.9802 - val_precision_m: 0.9863 - val_recall_m: 0.9750\n",
            "Epoch 9/15\n",
            "39/39 [==============================] - 25s 634ms/step - loss: 0.0768 - acc: 0.9790 - f1_m: 0.9797 - precision_m: 0.9840 - recall_m: 0.9760 - val_loss: 0.0823 - val_acc: 0.9787 - val_f1_m: 0.9790 - val_precision_m: 0.9862 - val_recall_m: 0.9728\n",
            "Epoch 10/15\n",
            "39/39 [==============================] - 25s 634ms/step - loss: 0.0794 - acc: 0.9794 - f1_m: 0.9802 - precision_m: 0.9832 - recall_m: 0.9779 - val_loss: 0.0790 - val_acc: 0.9773 - val_f1_m: 0.9784 - val_precision_m: 0.9817 - val_recall_m: 0.9762\n",
            "Epoch 11/15\n",
            "39/39 [==============================] - 25s 637ms/step - loss: 0.0841 - acc: 0.9786 - f1_m: 0.9795 - precision_m: 0.9825 - recall_m: 0.9772 - val_loss: 0.0959 - val_acc: 0.9773 - val_f1_m: 0.9784 - val_precision_m: 0.9817 - val_recall_m: 0.9762\n",
            "Epoch 12/15\n",
            "39/39 [==============================] - 25s 635ms/step - loss: 0.0819 - acc: 0.9786 - f1_m: 0.9793 - precision_m: 0.9826 - recall_m: 0.9767 - val_loss: 0.0790 - val_acc: 0.9773 - val_f1_m: 0.9784 - val_precision_m: 0.9817 - val_recall_m: 0.9762\n",
            "Epoch 13/15\n",
            "39/39 [==============================] - 25s 635ms/step - loss: 0.0816 - acc: 0.9790 - f1_m: 0.9799 - precision_m: 0.9833 - recall_m: 0.9772 - val_loss: 0.0844 - val_acc: 0.9793 - val_f1_m: 0.9802 - val_precision_m: 0.9863 - val_recall_m: 0.9750\n",
            "Epoch 14/15\n",
            "39/39 [==============================] - 25s 635ms/step - loss: 0.0792 - acc: 0.9794 - f1_m: 0.9803 - precision_m: 0.9841 - recall_m: 0.9772 - val_loss: 0.0771 - val_acc: 0.9773 - val_f1_m: 0.9784 - val_precision_m: 0.9817 - val_recall_m: 0.9762\n",
            "Epoch 15/15\n",
            "39/39 [==============================] - 25s 635ms/step - loss: 0.0802 - acc: 0.9802 - f1_m: 0.9810 - precision_m: 0.9834 - recall_m: 0.9793 - val_loss: 0.0776 - val_acc: 0.9800 - val_f1_m: 0.9808 - val_precision_m: 0.9863 - val_recall_m: 0.9762\n"
          ]
        }
      ]
    },
    {
      "cell_type": "code",
      "metadata": {
        "id": "fNh3QKBNnUXM"
      },
      "source": [
        "# Last 2 convolutional blocks\n",
        "for layer in res50.layers[:165]:\n",
        "   layer.trainable = False\n",
        "   \n",
        "for layer in res50.layers[165:]:\n",
        "   layer.trainable = True"
      ],
      "execution_count": 21,
      "outputs": []
    },
    {
      "cell_type": "code",
      "metadata": {
        "id": "2KVFu5hynZEi"
      },
      "source": [
        "adam = Adam(learning_rate=1e-5)\n",
        "model.compile(optimizer=adam, loss='binary_crossentropy', metrics=['acc', f1_m, precision_m, recall_m])"
      ],
      "execution_count": 22,
      "outputs": []
    },
    {
      "cell_type": "code",
      "metadata": {
        "id": "C0n6MaDDnAmq",
        "colab": {
          "base_uri": "https://localhost:8080/"
        },
        "outputId": "0ecc8e4f-a7ff-44df-8dd8-c9c29652e161"
      },
      "source": [
        "# Using bytecode of JavaScript file as image\n",
        "checkpointer = ModelCheckpoint(filepath=\"/content/drive/MyDrive/JS-CNN-Custom/ResNet50_JSBC+Bal_checkpoint_{epoch:02d}.hdf5\", verbose=1, save_best_only=True, monitor='val_f1_m', mode='max')\n",
        "csv_logger = CSVLogger(f'/content/drive/MyDrive/JS-CNN-Custom/ResNet50_JSBC+Bal_training_set_iranalysis_{save_name}.csv',separator=',', append=False)\n",
        "early_stopper = EarlyStopping(monitor='val_f1_m', patience=10, verbose=1)\n",
        "lr_reducer = ReduceLROnPlateau(monitor='val_loss', factor=1e-6, cooldown=1, patience=8, min_lr=1e-4, verbose=1)\n",
        "\n",
        "history = model.fit(train_gen, batch_size=batch_size, epochs=50, validation_data=val_gen,callbacks=[checkpointer, csv_logger, early_stopper, lr_reducer])\n",
        "model.save(f'/content/drive/MyDrive/JS-CNN-Custom/{save_name}_ResNet50_JSBC+Bal_2_cnn.hdf5')"
      ],
      "execution_count": 23,
      "outputs": [
        {
          "output_type": "stream",
          "name": "stdout",
          "text": [
            "Epoch 1/50\n",
            "39/39 [==============================] - ETA: 0s - loss: 0.4814 - acc: 0.9377 - f1_m: 0.9432 - precision_m: 0.9071 - recall_m: 0.9893\n",
            "Epoch 00001: val_f1_m improved from -inf to 0.90273, saving model to /content/drive/MyDrive/JS-CNN-Custom/ResNet50_JSBC+Bal_checkpoint_01.hdf5\n"
          ]
        },
        {
          "output_type": "stream",
          "name": "stderr",
          "text": [
            "/usr/local/lib/python3.7/dist-packages/keras/engine/functional.py:1410: CustomMaskWarning: Custom mask layers require a config and must override get_config. When loading, the custom mask layer must be passed to the custom_objects argument.\n",
            "  layer_config = serialize_layer_fn(layer)\n"
          ]
        },
        {
          "output_type": "stream",
          "name": "stdout",
          "text": [
            "\b\b\b\b\b\b\b\b\b\b\b\b\b\b\b\b\b\b\b\b\b\b\b\b\b\b\b\b\b\b\b\b\b\b\b\b\b\b\b\b\b\b\b\b\b\b\b\b\b\b\b\b\b\b\b\b\b\b\b\b\b\b\b\b\b\b\b\b\b\b\b\b\b\b\b\b\b\b\b\b\b\b\b\b\b\b\b\b\b\b\b\b\b\b\b\b\b\b\b\b\b\b\b\b\b\b\b\b\b\b\b\b\b\b\b\b\b\b\b\b\b\b\b\b\b\b\b\b\b\b\b\b\b\r39/39 [==============================] - 34s 741ms/step - loss: 0.4814 - acc: 0.9377 - f1_m: 0.9432 - precision_m: 0.9071 - recall_m: 0.9893 - val_loss: 0.3675 - val_acc: 0.9056 - val_f1_m: 0.9027 - val_precision_m: 0.9939 - val_recall_m: 0.8278 - lr: 1.0000e-05\n",
            "Epoch 2/50\n",
            "39/39 [==============================] - ETA: 0s - loss: 0.1736 - acc: 0.9749 - f1_m: 0.9761 - precision_m: 0.9743 - recall_m: 0.9787\n",
            "Epoch 00002: val_f1_m did not improve from 0.90273\n",
            "39/39 [==============================] - 26s 662ms/step - loss: 0.1736 - acc: 0.9749 - f1_m: 0.9761 - precision_m: 0.9743 - recall_m: 0.9787 - val_loss: 0.6495 - val_acc: 0.8402 - val_f1_m: 0.8226 - val_precision_m: 0.9923 - val_recall_m: 0.7050 - lr: 1.0000e-05\n",
            "Epoch 3/50\n",
            "39/39 [==============================] - ETA: 0s - loss: 0.1157 - acc: 0.9781 - f1_m: 0.9790 - precision_m: 0.9807 - recall_m: 0.9779\n",
            "Epoch 00003: val_f1_m did not improve from 0.90273\n",
            "39/39 [==============================] - 26s 662ms/step - loss: 0.1157 - acc: 0.9781 - f1_m: 0.9790 - precision_m: 0.9807 - recall_m: 0.9779 - val_loss: 0.5593 - val_acc: 0.8567 - val_f1_m: 0.8433 - val_precision_m: 0.9927 - val_recall_m: 0.7362 - lr: 1.0000e-05\n",
            "Epoch 4/50\n",
            "39/39 [==============================] - ETA: 0s - loss: 0.0870 - acc: 0.9790 - f1_m: 0.9800 - precision_m: 0.9826 - recall_m: 0.9779\n",
            "Epoch 00004: val_f1_m did not improve from 0.90273\n",
            "39/39 [==============================] - 26s 663ms/step - loss: 0.0870 - acc: 0.9790 - f1_m: 0.9800 - precision_m: 0.9826 - recall_m: 0.9779 - val_loss: 0.4333 - val_acc: 0.8822 - val_f1_m: 0.8751 - val_precision_m: 0.9935 - val_recall_m: 0.7841 - lr: 1.0000e-05\n",
            "Epoch 5/50\n",
            "39/39 [==============================] - ETA: 0s - loss: 0.0649 - acc: 0.9802 - f1_m: 0.9811 - precision_m: 0.9834 - recall_m: 0.9794\n",
            "Epoch 00005: val_f1_m improved from 0.90273 to 0.91791, saving model to /content/drive/MyDrive/JS-CNN-Custom/ResNet50_JSBC+Bal_checkpoint_05.hdf5\n",
            "39/39 [==============================] - 27s 691ms/step - loss: 0.0649 - acc: 0.9802 - f1_m: 0.9811 - precision_m: 0.9834 - recall_m: 0.9794 - val_loss: 0.2879 - val_acc: 0.9194 - val_f1_m: 0.9179 - val_precision_m: 0.9942 - val_recall_m: 0.8540 - lr: 1.0000e-05\n",
            "Epoch 6/50\n",
            "39/39 [==============================] - ETA: 0s - loss: 0.0511 - acc: 0.9818 - f1_m: 0.9827 - precision_m: 0.9851 - recall_m: 0.9809\n",
            "Epoch 00006: val_f1_m did not improve from 0.91791\n",
            "39/39 [==============================] - 26s 665ms/step - loss: 0.0511 - acc: 0.9818 - f1_m: 0.9827 - precision_m: 0.9851 - recall_m: 0.9809 - val_loss: 0.2329 - val_acc: 0.9118 - val_f1_m: 0.9093 - val_precision_m: 0.9941 - val_recall_m: 0.8399 - lr: 1.0000e-05\n",
            "Epoch 7/50\n",
            "39/39 [==============================] - ETA: 0s - loss: 0.0439 - acc: 0.9834 - f1_m: 0.9843 - precision_m: 0.9858 - recall_m: 0.9832\n",
            "Epoch 00007: val_f1_m improved from 0.91791 to 0.92791, saving model to /content/drive/MyDrive/JS-CNN-Custom/ResNet50_JSBC+Bal_checkpoint_07.hdf5\n",
            "39/39 [==============================] - 27s 693ms/step - loss: 0.0439 - acc: 0.9834 - f1_m: 0.9843 - precision_m: 0.9858 - recall_m: 0.9832 - val_loss: 0.1713 - val_acc: 0.9284 - val_f1_m: 0.9279 - val_precision_m: 0.9944 - val_recall_m: 0.8714 - lr: 1.0000e-05\n",
            "Epoch 8/50\n",
            "39/39 [==============================] - ETA: 0s - loss: 0.0389 - acc: 0.9866 - f1_m: 0.9875 - precision_m: 0.9860 - recall_m: 0.9895\n",
            "Epoch 00008: val_f1_m improved from 0.92791 to 0.97816, saving model to /content/drive/MyDrive/JS-CNN-Custom/ResNet50_JSBC+Bal_checkpoint_08.hdf5\n",
            "39/39 [==============================] - 27s 695ms/step - loss: 0.0389 - acc: 0.9866 - f1_m: 0.9875 - precision_m: 0.9860 - recall_m: 0.9895 - val_loss: 0.1254 - val_acc: 0.9773 - val_f1_m: 0.9782 - val_precision_m: 0.9863 - val_recall_m: 0.9711 - lr: 1.0000e-05\n",
            "Epoch 9/50\n",
            "39/39 [==============================] - ETA: 0s - loss: 0.0351 - acc: 0.9907 - f1_m: 0.9911 - precision_m: 0.9867 - recall_m: 0.9956\n",
            "Epoch 00009: val_f1_m improved from 0.97816 to 0.98019, saving model to /content/drive/MyDrive/JS-CNN-Custom/ResNet50_JSBC+Bal_checkpoint_09.hdf5\n",
            "39/39 [==============================] - 27s 695ms/step - loss: 0.0351 - acc: 0.9907 - f1_m: 0.9911 - precision_m: 0.9867 - recall_m: 0.9956 - val_loss: 0.1026 - val_acc: 0.9793 - val_f1_m: 0.9802 - val_precision_m: 0.9863 - val_recall_m: 0.9750 - lr: 1.0000e-05\n",
            "Epoch 10/50\n",
            "39/39 [==============================] - ETA: 0s - loss: 0.0319 - acc: 0.9903 - f1_m: 0.9907 - precision_m: 0.9878 - recall_m: 0.9938\n",
            "Epoch 00010: val_f1_m did not improve from 0.98019\n",
            "39/39 [==============================] - 26s 662ms/step - loss: 0.0319 - acc: 0.9903 - f1_m: 0.9907 - precision_m: 0.9878 - recall_m: 0.9938 - val_loss: 0.1096 - val_acc: 0.9793 - val_f1_m: 0.9802 - val_precision_m: 0.9863 - val_recall_m: 0.9750 - lr: 1.0000e-05\n",
            "Epoch 11/50\n",
            "39/39 [==============================] - ETA: 0s - loss: 0.0308 - acc: 0.9907 - f1_m: 0.9913 - precision_m: 0.9885 - recall_m: 0.9942\n",
            "Epoch 00011: val_f1_m did not improve from 0.98019\n",
            "39/39 [==============================] - 26s 662ms/step - loss: 0.0308 - acc: 0.9907 - f1_m: 0.9913 - precision_m: 0.9885 - recall_m: 0.9942 - val_loss: 0.0919 - val_acc: 0.9793 - val_f1_m: 0.9802 - val_precision_m: 0.9863 - val_recall_m: 0.9750 - lr: 1.0000e-05\n",
            "Epoch 12/50\n",
            "39/39 [==============================] - ETA: 0s - loss: 0.0275 - acc: 0.9923 - f1_m: 0.9927 - precision_m: 0.9894 - recall_m: 0.9963\n",
            "Epoch 00012: val_f1_m did not improve from 0.98019\n",
            "39/39 [==============================] - 26s 662ms/step - loss: 0.0275 - acc: 0.9923 - f1_m: 0.9927 - precision_m: 0.9894 - recall_m: 0.9963 - val_loss: 0.0958 - val_acc: 0.9793 - val_f1_m: 0.9802 - val_precision_m: 0.9863 - val_recall_m: 0.9750 - lr: 1.0000e-05\n",
            "Epoch 00012: early stopping\n"
          ]
        }
      ]
    },
    {
      "cell_type": "code",
      "metadata": {
        "id": "7QzX0XX5RA-v",
        "colab": {
          "base_uri": "https://localhost:8080/"
        },
        "outputId": "c196d632-00d5-4756-b358-d8dc358402c7"
      },
      "source": [
        "scores = model.evaluate(test_gen, verbose=1)\n",
        "scores"
      ],
      "execution_count": 24,
      "outputs": [
        {
          "output_type": "stream",
          "name": "stdout",
          "text": [
            "16/16 [==============================] - 7s 431ms/step - loss: 0.0443 - acc: 0.9766 - f1_m: 0.9779 - precision_m: 0.9926 - recall_m: 0.9644\n"
          ]
        },
        {
          "output_type": "execute_result",
          "data": {
            "text/plain": [
              "[0.044343121349811554,\n",
              " 0.9765545129776001,\n",
              " 0.9778665900230408,\n",
              " 0.9926377534866333,\n",
              " 0.964440643787384]"
            ]
          },
          "metadata": {},
          "execution_count": 24
        }
      ]
    },
    {
      "cell_type": "code",
      "metadata": {
        "id": "1ybsg1QqSFUK"
      },
      "source": [
        "# test_gen.true_labels.shape\n",
        "y_true = test_gen.class_labels"
      ],
      "execution_count": 25,
      "outputs": []
    },
    {
      "cell_type": "code",
      "metadata": {
        "id": "_B8kT3zWKPiQ",
        "colab": {
          "base_uri": "https://localhost:8080/"
        },
        "outputId": "34f02673-3966-4056-c45c-38c51e5cd011"
      },
      "source": [
        "%%time\n",
        "y_pred = model.predict(test_gen).ravel()"
      ],
      "execution_count": 26,
      "outputs": [
        {
          "output_type": "stream",
          "name": "stdout",
          "text": [
            "CPU times: user 9.62 s, sys: 299 ms, total: 9.92 s\n",
            "Wall time: 7.51 s\n"
          ]
        }
      ]
    },
    {
      "cell_type": "code",
      "metadata": {
        "id": "y8wJj6mnROKy"
      },
      "source": [
        "ns_probs = [0 for _ in range(len(y_test))]\n",
        "ns_auc = roc_auc_score(y_test, ns_probs)\n",
        "ns_fpr, ns_tpr, _ = roc_curve(y_test, ns_probs)"
      ],
      "execution_count": 27,
      "outputs": []
    },
    {
      "cell_type": "code",
      "metadata": {
        "id": "SPR5GT_A5jT1",
        "colab": {
          "base_uri": "https://localhost:8080/",
          "height": 843
        },
        "outputId": "60046993-be22-43d7-b3d3-7030f07b75ec"
      },
      "source": [
        "nn_fpr, nn_tpr, _ = roc_curve(y_true, y_pred) # nn_thresholds\n",
        "nn_auc = roc_auc_score(y_true, y_pred)\n",
        "plt.plot(nn_fpr, nn_tpr, marker='.', label='CNN (auc = %0.3f)' % nn_auc)\n",
        "plt.plot(ns_fpr, ns_tpr, linestyle='--')\n",
        "plt.xlabel('False Positive Rate')\n",
        "plt.ylabel('True Positive Rate')\n",
        "plt.legend()\n",
        "plt.show()"
      ],
      "execution_count": 28,
      "outputs": [
        {
          "output_type": "display_data",
          "data": {
            "image/png": "[encoded data removed]",
            "text/plain": [
              "<Figure size 1000x1000 with 1 Axes>"
            ]
          },
          "metadata": {}
        }
      ]
    },
    {
      "cell_type": "code",
      "metadata": {
        "id": "8kj8sywuG4Ym"
      },
      "source": [
        "scale = lambda x: 1.0 if (x > 0.5) else 0.0\n",
        "scale_v = np.vectorize(scale)"
      ],
      "execution_count": 29,
      "outputs": []
    },
    {
      "cell_type": "code",
      "metadata": {
        "id": "l7GJJAh2GBg2"
      },
      "source": [
        "y_pred_ = scale_v(y_pred)"
      ],
      "execution_count": 30,
      "outputs": []
    },
    {
      "cell_type": "code",
      "metadata": {
        "id": "5BuuQSnf5zfr",
        "colab": {
          "base_uri": "https://localhost:8080/"
        },
        "outputId": "8cb83a75-38d1-4418-95de-5532a570e986"
      },
      "source": [
        "print(classification_report(y_true, y_pred_))"
      ],
      "execution_count": 31,
      "outputs": [
        {
          "output_type": "stream",
          "name": "stdout",
          "text": [
            "              precision    recall  f1-score   support\n",
            "\n",
            "           0       0.96      0.99      0.98       455\n",
            "           1       0.99      0.96      0.98       526\n",
            "\n",
            "    accuracy                           0.98       981\n",
            "   macro avg       0.98      0.98      0.98       981\n",
            "weighted avg       0.98      0.98      0.98       981\n",
            "\n"
          ]
        }
      ]
    },
    {
      "cell_type": "code",
      "metadata": {
        "id": "kwWsejQqV5tp",
        "colab": {
          "base_uri": "https://localhost:8080/"
        },
        "outputId": "273d114c-b0a5-4199-eccb-531a661bd26b"
      },
      "source": [
        "import json\n",
        "rep = json.dumps(detailed_report(y_true, y_pred_), sort_keys=True, indent=4)\n",
        "print(rep)"
      ],
      "execution_count": 32,
      "outputs": [
        {
          "output_type": "stream",
          "name": "stdout",
          "text": [
            "{\n",
            "    \"Accuracy\": 0.9765545361875637,\n",
            "    \"F1-Score\": 0.9778206364513018,\n",
            "    \"False Discovery Rate\": 0.007827788649706457,\n",
            "    \"False Negative Rate\": 0.03612167300380228,\n",
            "    \"False Positive Rate\": 0.008791208791208791,\n",
            "    \"Matthews Correlation Coefficient\": 0.9534154358531874,\n",
            "    \"Negative Predictive Value\": 0.9595744680851064,\n",
            "    \"Precision\": 0.9921722113502935,\n",
            "    \"Sensitivity\": 0.9638783269961977,\n",
            "    \"Specificity\": 0.9912087912087912\n",
            "}\n"
          ]
        }
      ]
    }
  ]
}